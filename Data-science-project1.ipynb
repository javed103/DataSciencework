{
 "cells": [
  {
   "cell_type": "markdown",
   "metadata": {},
   "source": [
    "# The first part of the assignment, IDS 2021-2022\n",
    "In this Jupyter notebook, please, document your results and the way you have obtained them. You can use the attached yaml file to build Python environment for this assignment. Another option (and the easiest way) is to just use the _Python environment_ provided at the beginning of the course and then use *pip install* to install *p_decision_tree* library. You can find the required yaml file in the folder of this assignment. In addition to the _Jupyter notebook_, please submit _one zip-file_ containing all datasets and other outputs you have generated (such as pdf, jpg, and others). Please make sure that the datasets and other outputs are easily identifiable, i.e. use names as requested in the corresponding question.\n",
    "\n",
    "This is the _only_ submission that is required (Jupyter notebook + zip-file). A separate report is _not_ needed and will not be considered for grading. \n",
    "\n",
    "Give your commented Python code and answers in the corresponding provided cells. Make sure to answer all questions in a clear and explicit manner and discuss your outputs. _Please do not change the general structure of this notebook_. You can, however, add additional markdown or code cells if necessary. <b>Please DO NOT CLEAR THE OUTPUT of the notebook you are submitting! </b>\n",
    "\n",
    "<font color=\"red\"> *Please make sure to include the names and matriculation numbers of all group members in the slot provided below.* </font> If a name or a student id is missing, the student will not receive any points.\n",
    "\n",
    "Hint 1: While working on the assignment, you will get a better understanding of the dataset. Feel free to generate additional results and visualizations to support your answers. For example, this might be useful regarding data modification, data simplification, or output interpretation. <font color=\"red\">Ensure that all your claims are supported.</font>\n",
    "\n",
    "Hint 2: <font color=\"red\">Plan your time wisely. </font> A few parts of this assignment may take some time to run. It might be necessary to consider time management when you plan your group work.\n",
    "\n",
    "Hint 3: RWTHmoodle allows multiple submissions, with every new submission overwriting the previous one. <b>Partial submissions are therefore possible and encouraged. </b> This might be helpful in case of technical issues with RWTHMoodle, which may occur close to the deadline.\n"
   ]
  },
  {
   "cell_type": "markdown",
   "metadata": {},
   "source": [
    "<font color=\"red\"><b>Student Names and IDs:\n",
    "    \n",
    "     Javed Amin 404073\n",
    "    \n",
   ]
  },
  {
   "cell_type": "markdown",
   "metadata": {},
   "source": [
    "## Dataset\n",
    "Almost all of us have the experience of being stuck in an airport because our flight was delayed or canceled. As a person who knows how to analyze data, we all wondered if we could have predicted it if we had access <b>to</b>  the data. This is your chance to find out.\n",
    "\n",
    "In this assignment, you will perform some analysis on a flight delay dataset. This dataset is provided by the U.S. Department of Transportation's (DOT) Bureau of Transportation Statistics (BTS) which tracks the on-time performance of domestic flights operated by large air carriers. In the following, you can find the definition of some of the features in this dataset.\n",
    "\n",
    "<b>Airline delay.</b> \n",
    "This type of delay pertains to the status within the airline’s control. For example, problems with maintenance and crew, cleaning within the cabin, fueling, and baggage loading could all be contributing factors to a delayed flight. \n",
    "\n",
    "<b>Security delay.</b> \n",
    "Security delay is caused by evacuation of a terminal or concourse, re-boarding of an aircraft because of a security breach, inoperative screening equipment, and/or long lines in excess of 29 minutes at screening areas.\n",
    "\n",
    "<b>Weather delay.</b> \n",
    "Weather delay is caused by extreme or hazardous weather conditions that are forecasted or manifest themselves on point of departure, enroute, or on point of arrival.\n",
    "\n",
    "<b>Late aircraft delay.</b> \n",
    "Arrival delay at an airport due to the late arrival of the same aircraft at a previous airport. The ripple effect of an earlier delay at downstream airports is referred to as delay propagation.\n",
    "\n",
    "<b>Taxi in/out.</b> \n",
    "Taxi time is the total time of an aircraft's movement on the ground.\n",
    "\n",
    "<b>Wheels-off.</b> \n",
    "The time that an aircraft lifts off from the origin airport.\n",
    "    \n",
    "<b>Wheels-on.</b> \n",
    " The time that an aircraft lands at the designated airport.\n",
    "\n",
    "<b> Air time.</b> \n",
    "The time from the moment an aircraft leaves the surface until it comes into contact with the surface at the next point of landing."
   ]
  },
  {
   "cell_type": "markdown",
   "metadata": {},
   "source": [
    "## Question 0 - Preprocessing of the Dataset \n",
    " Carry out the following preprocessing steps before starting the analysis:\n",
    " - Select 95% of the dataset provided for this assignment by random sampling.\n",
    "     - Use one of the group member's student numbers as a seed.\n",
    "     - Rename the newly generated dataset (which contains 95% of the data) to <b>sampled_data</b>.\n",
    " - If it is not mentioned otherwise, you should always use <b>sampled_data</b> created in this step as input for the questions.\n",
    " \n",
    "<font color=\"red\">Note: Your assignment would not be graded if this step is not done. </font>"
   ]
  },
  {
   "cell_type": "code",
   "execution_count": 2,
   "metadata": {},
   "outputs": [],
   "source": [
    "import numpy as np\n",
    "import pandas as pd\n",
    "import csv\n",
    "from sklearn.preprocessing import normalize\n",
    "import scipy.cluster.hierarchy as shc\n",
    "import matplotlib.pyplot as plt\n",
    "import statistics as stat\n",
    "import seaborn as sns\n",
    "#from p_decision_tree.DecisionTree import DecisionTree\n",
    "from sklearn.preprocessing import LabelEncoder\n",
    "from sklearn.linear_model import LogisticRegression\n",
    "from matplotlib import pyplot\n",
    "from sklearn.model_selection import train_test_split, StratifiedKFold\n",
    "from sklearn.svm import SVC\n",
    "from sklearn import metrics\n",
    "from sklearn.neural_network import MLPClassifier\n",
    "from sklearn.model_selection import KFold\n",
    "from sklearn.cluster import AgglomerativeClustering\n",
    "from sklearn.cluster import KMeans\n",
    "import warnings\n",
    "warnings.filterwarnings(\"ignore\")"
   ]
  },
  {
   "cell_type": "code",
   "execution_count": 3,
   "metadata": {},
   "outputs": [
    {
     "name": "stdout",
     "output_type": "stream",
     "text": [
      "(940635, 36)\n",
      "(893603, 36)\n"
     ]
    }
   ],
   "source": [
    "#Read original dataset\n",
    "dataset = pd.read_csv(r'D:\\javed\\Data Science\\3rd smester\\IDS\\Assignment 1\\dataset.csv')\n",
    "print(dataset.shape)\n",
    "#Extract 90% data by random sampling using '404073' as seed\n",
    "#print(dataset.info())\n",
    "sampled_data = dataset.sample(frac=0.95, random_state=404073)\n",
    "#Export the dataset\n",
    "sampled_data.to_csv(r'D:\\javed\\Data Science\\3rd smester\\IDS\\Assignment 1\\sampled_data.csv', index=False)\n",
    "print(sampled_data.shape)"
   ]
  },
  {
   "cell_type": "markdown",
   "metadata": {},
   "source": [
    "## Question 1 - Insights into the Data (20 points):"
   ]
  },
  {
   "cell_type": "markdown",
   "metadata": {},
   "source": [
    "### Setting of this Question:\n",
    "We want to make ourselves familiar with the data. To this end, we start with an explorative data analysis. You are more than welcome to provide a deeper analysis and generate more visualizations to understand the data better. Please follow the next two parts."
   ]
  },
  {
   "cell_type": "markdown",
   "metadata": {},
   "source": [
    "### Part 1: Basic data analysis\n",
    "To investigate the data, we take a look at some of the basic statistics and properties of the data."
   ]
  },
  {
   "cell_type": "markdown",
   "metadata": {},
   "source": [
    "#### a) Unique values: \n",
    "Mention the unique values for cancelation reason in the <b>sampled_data</b>. Also, mention the unique values of this feature where the flights have been canceled and where the flights have not been canceled. Explain the difference."
   ]
  },
  {
   "cell_type": "code",
   "execution_count": 4,
   "metadata": {},
   "outputs": [
    {
     "data": {
      "text/plain": [
       "array(['N', 'C', 'B', 'A', 'D'], dtype=object)"
      ]
     },
     "execution_count": 4,
     "metadata": {},
     "output_type": "execute_result"
    }
   ],
   "source": [
    "sampled_data['CANCELLATION_REASON'].unique()\n"
   ]
  },
  {
   "cell_type": "code",
   "execution_count": 5,
   "metadata": {},
   "outputs": [
    {
     "data": {
      "text/plain": [
       "array([0, 1], dtype=int64)"
      ]
     },
     "execution_count": 5,
     "metadata": {},
     "output_type": "execute_result"
    }
   ],
   "source": [
    "sampled_data['CANCELLED'].unique()\n"
   ]
  },
  {
   "cell_type": "code",
   "execution_count": 6,
   "metadata": {},
   "outputs": [
    {
     "name": "stdout",
     "output_type": "stream",
     "text": [
      "710698    C\n",
      "482568    B\n",
      "522719    B\n",
      "151038    B\n",
      "348140    B\n",
      "         ..\n",
      "489142    C\n",
      "427258    A\n",
      "124529    C\n",
      "846530    A\n",
      "93853     C\n",
      "Name: CANCELLATION_REASON, Length: 85385, dtype: object\n",
      "264132    N\n",
      "323909    N\n",
      "187501    N\n",
      "826868    N\n",
      "323744    N\n",
      "         ..\n",
      "169920    N\n",
      "367836    N\n",
      "14356     N\n",
      "278062    N\n",
      "628862    N\n",
      "Name: CANCELLATION_REASON, Length: 808218, dtype: object\n"
     ]
    }
   ],
   "source": [
    "Cancelled = sampled_data.loc[sampled_data['CANCELLED'] == 1, 'CANCELLATION_REASON']\n",
    "print(Cancelled)\n",
    "NotCancelled = sampled_data.loc[sampled_data['CANCELLED'] == 0, 'CANCELLATION_REASON']\n",
    "print(NotCancelled)"
   ]
  },
  {
   "cell_type": "markdown",
   "metadata": {},
   "source": [
    "    Your answer:There is five diffrente unique values for cancelation reason 'N', 'C', 'B', 'A', 'D' when we are check unique value for CANCELLED feature then there is one value N and againts this one value we have 2 values 0, 1. 0 mean flight not cancelled and 1 mean flight cancelled.  \n",
    "    "
   ]
  },
  {
   "cell_type": "markdown",
   "metadata": {},
   "source": [
    "#### b) Null values: \n",
    "Remove all the rows with null values from the <b>sampled_data</b>. Let's call this new dataset <b>no_null_data</b>. Show the unique values for cancelation reason in <b>no_null_data</b> and compare them to the unique values in <b>sampled_data</b>. Can you explain the difference? "
   ]
  },
  {
   "cell_type": "code",
   "execution_count": 7,
   "metadata": {},
   "outputs": [
    {
     "name": "stdout",
     "output_type": "stream",
     "text": [
      "(893603, 36)\n",
      "['N']\n",
      "(808218, 36)\n"
     ]
    }
   ],
   "source": [
    "# Your code\n",
    "# df.dropna()\n",
    "da = pd.DataFrame(sampled_data)\n",
    "print(da.shape)\n",
    "no_null_data = da.dropna()\n",
    "print(no_null_data['CANCELLATION_REASON'].unique())\n",
    "print(no_null_data.shape)"
   ]
  },
  {
   "cell_type": "markdown",
   "metadata": {},
   "source": [
    "    Your answer:Here is a big difference between sampled data set unique values and no_null_data set. In no_null_data set just have one unique value just like 'N' its mean we have just 1 cancelletion reason in no_null_data set in sampled data we have 5 different kind of cancelation reason. In sampled data set there is five different kinds of values just like 'N', 'C', 'B', 'A', 'D'. \n",
    "    "
   ]
  },
  {
   "cell_type": "markdown",
   "metadata": {},
   "source": [
    "#### c) Boxplot:\n",
    "Use <b>no_null_data</b> dataset to create a new dataset including all the flights from airline 'EV' which have at least 2 hours but at most 6 hours of delay. Let's call this data <b>ev_data</b>.\n",
    "\n",
    "Use a boxplot to create two datasets from <b>ev_data</b> by finding and removing the outliers from the following attributes:\n",
    "   - Late aircraft delay, call this dataset <b>cleaned_data_late_aircraft</b>,\n",
    "   - Air system delay, call this dataset <b>cleaned_data_air_system</b>.\n",
    "    \n",
    "Note that based on the boxplot, the values greater than the upper-whisker and lower than the lower-whisker are considered as outliers."
   ]
  },
  {
   "cell_type": "code",
   "execution_count": 8,
   "metadata": {},
   "outputs": [
    {
     "name": "stdout",
     "output_type": "stream",
     "text": [
      "'EV' airline data which have at least 2 hours but at most 6 hours of delay\n"
     ]
    },
    {
     "data": {
      "text/html": [
       "<div>\n",
       "<style scoped>\n",
       "    .dataframe tbody tr th:only-of-type {\n",
       "        vertical-align: middle;\n",
       "    }\n",
       "\n",
       "    .dataframe tbody tr th {\n",
       "        vertical-align: top;\n",
       "    }\n",
       "\n",
       "    .dataframe thead th {\n",
       "        text-align: right;\n",
       "    }\n",
       "</style>\n",
       "<table border=\"1\" class=\"dataframe\">\n",
       "  <thead>\n",
       "    <tr style=\"text-align: right;\">\n",
       "      <th></th>\n",
       "      <th>0</th>\n",
       "      <th>AIRLINE</th>\n",
       "      <th>AIRLINE_DELAY</th>\n",
       "      <th>AIR_SYSTEM_DELAY</th>\n",
       "      <th>AIR_TIME</th>\n",
       "      <th>ARRIVAL_DELAY</th>\n",
       "      <th>ARRIVAL_TIME</th>\n",
       "      <th>CANCELLATION_REASON</th>\n",
       "      <th>CANCELLED</th>\n",
       "      <th>DAY</th>\n",
       "      <th>...</th>\n",
       "      <th>TAIL_NUMBER</th>\n",
       "      <th>TAXI_IN</th>\n",
       "      <th>TAXI_OUT</th>\n",
       "      <th>Unnamed: 0</th>\n",
       "      <th>Unnamed: 0.1</th>\n",
       "      <th>WEATHER_DELAY</th>\n",
       "      <th>WEEK</th>\n",
       "      <th>WHEELS_OFF</th>\n",
       "      <th>WHEELS_ON</th>\n",
       "      <th>YEAR</th>\n",
       "    </tr>\n",
       "  </thead>\n",
       "  <tbody>\n",
       "    <tr>\n",
       "      <th>5</th>\n",
       "      <td>NaN</td>\n",
       "      <td>EV</td>\n",
       "      <td>0.0</td>\n",
       "      <td>120.0</td>\n",
       "      <td>137.0</td>\n",
       "      <td>2.0</td>\n",
       "      <td>1024.0</td>\n",
       "      <td>N</td>\n",
       "      <td>0.0</td>\n",
       "      <td>13.0</td>\n",
       "      <td>...</td>\n",
       "      <td>N13979</td>\n",
       "      <td>20.0</td>\n",
       "      <td>10.0</td>\n",
       "      <td>450434.0</td>\n",
       "      <td>867008.0</td>\n",
       "      <td>0.0</td>\n",
       "      <td>27.0</td>\n",
       "      <td>847.0</td>\n",
       "      <td>1004.0</td>\n",
       "      <td>2015.0</td>\n",
       "    </tr>\n",
       "    <tr>\n",
       "      <th>12</th>\n",
       "      <td>NaN</td>\n",
       "      <td>EV</td>\n",
       "      <td>0.0</td>\n",
       "      <td>14.0</td>\n",
       "      <td>34.0</td>\n",
       "      <td>2.1</td>\n",
       "      <td>2339.0</td>\n",
       "      <td>N</td>\n",
       "      <td>0.0</td>\n",
       "      <td>16.0</td>\n",
       "      <td>...</td>\n",
       "      <td>N626AE</td>\n",
       "      <td>5.0</td>\n",
       "      <td>40.0</td>\n",
       "      <td>130272.0</td>\n",
       "      <td>689447.0</td>\n",
       "      <td>0.0</td>\n",
       "      <td>23.0</td>\n",
       "      <td>2300.0</td>\n",
       "      <td>2334.0</td>\n",
       "      <td>2015.0</td>\n",
       "    </tr>\n",
       "    <tr>\n",
       "      <th>29</th>\n",
       "      <td>NaN</td>\n",
       "      <td>EV</td>\n",
       "      <td>10.0</td>\n",
       "      <td>17.0</td>\n",
       "      <td>50.0</td>\n",
       "      <td>2.2</td>\n",
       "      <td>1745.0</td>\n",
       "      <td>N</td>\n",
       "      <td>0.0</td>\n",
       "      <td>30.0</td>\n",
       "      <td>...</td>\n",
       "      <td>N871AS</td>\n",
       "      <td>7.0</td>\n",
       "      <td>28.0</td>\n",
       "      <td>690982.0</td>\n",
       "      <td>447446.0</td>\n",
       "      <td>0.0</td>\n",
       "      <td>52.0</td>\n",
       "      <td>1648.0</td>\n",
       "      <td>1738.0</td>\n",
       "      <td>2015.0</td>\n",
       "    </tr>\n",
       "    <tr>\n",
       "      <th>41</th>\n",
       "      <td>NaN</td>\n",
       "      <td>EV</td>\n",
       "      <td>0.0</td>\n",
       "      <td>2.0</td>\n",
       "      <td>89.0</td>\n",
       "      <td>3.0</td>\n",
       "      <td>115.0</td>\n",
       "      <td>N</td>\n",
       "      <td>0.0</td>\n",
       "      <td>4.0</td>\n",
       "      <td>...</td>\n",
       "      <td>N629AE</td>\n",
       "      <td>10.0</td>\n",
       "      <td>6.0</td>\n",
       "      <td>548443.0</td>\n",
       "      <td>106695.0</td>\n",
       "      <td>0.0</td>\n",
       "      <td>22.0</td>\n",
       "      <td>2336.0</td>\n",
       "      <td>105.0</td>\n",
       "      <td>2015.0</td>\n",
       "    </tr>\n",
       "    <tr>\n",
       "      <th>44</th>\n",
       "      <td>NaN</td>\n",
       "      <td>EV</td>\n",
       "      <td>53.0</td>\n",
       "      <td>39.0</td>\n",
       "      <td>33.0</td>\n",
       "      <td>3.6</td>\n",
       "      <td>8.0</td>\n",
       "      <td>N</td>\n",
       "      <td>0.0</td>\n",
       "      <td>10.0</td>\n",
       "      <td>...</td>\n",
       "      <td>N723EV</td>\n",
       "      <td>42.0</td>\n",
       "      <td>17.0</td>\n",
       "      <td>588278.0</td>\n",
       "      <td>407338.0</td>\n",
       "      <td>0.0</td>\n",
       "      <td>14.0</td>\n",
       "      <td>2253.0</td>\n",
       "      <td>2326.0</td>\n",
       "      <td>2015.0</td>\n",
       "    </tr>\n",
       "    <tr>\n",
       "      <th>...</th>\n",
       "      <td>...</td>\n",
       "      <td>...</td>\n",
       "      <td>...</td>\n",
       "      <td>...</td>\n",
       "      <td>...</td>\n",
       "      <td>...</td>\n",
       "      <td>...</td>\n",
       "      <td>...</td>\n",
       "      <td>...</td>\n",
       "      <td>...</td>\n",
       "      <td>...</td>\n",
       "      <td>...</td>\n",
       "      <td>...</td>\n",
       "      <td>...</td>\n",
       "      <td>...</td>\n",
       "      <td>...</td>\n",
       "      <td>...</td>\n",
       "      <td>...</td>\n",
       "      <td>...</td>\n",
       "      <td>...</td>\n",
       "      <td>...</td>\n",
       "    </tr>\n",
       "    <tr>\n",
       "      <th>82929</th>\n",
       "      <td>NaN</td>\n",
       "      <td>EV</td>\n",
       "      <td>0.0</td>\n",
       "      <td>0.0</td>\n",
       "      <td>145.0</td>\n",
       "      <td>3.0</td>\n",
       "      <td>1631.0</td>\n",
       "      <td>N</td>\n",
       "      <td>0.0</td>\n",
       "      <td>29.0</td>\n",
       "      <td>...</td>\n",
       "      <td>N709EV</td>\n",
       "      <td>15.0</td>\n",
       "      <td>32.0</td>\n",
       "      <td>624547.0</td>\n",
       "      <td>146848.0</td>\n",
       "      <td>0.0</td>\n",
       "      <td>17.0</td>\n",
       "      <td>1451.0</td>\n",
       "      <td>1616.0</td>\n",
       "      <td>2015.0</td>\n",
       "    </tr>\n",
       "    <tr>\n",
       "      <th>82935</th>\n",
       "      <td>NaN</td>\n",
       "      <td>EV</td>\n",
       "      <td>189.0</td>\n",
       "      <td>0.0</td>\n",
       "      <td>77.0</td>\n",
       "      <td>3.2</td>\n",
       "      <td>1717.0</td>\n",
       "      <td>N</td>\n",
       "      <td>0.0</td>\n",
       "      <td>24.0</td>\n",
       "      <td>...</td>\n",
       "      <td>N718EV</td>\n",
       "      <td>5.0</td>\n",
       "      <td>10.0</td>\n",
       "      <td>812150.0</td>\n",
       "      <td>112681.0</td>\n",
       "      <td>0.0</td>\n",
       "      <td>51.0</td>\n",
       "      <td>1455.0</td>\n",
       "      <td>1712.0</td>\n",
       "      <td>2015.0</td>\n",
       "    </tr>\n",
       "    <tr>\n",
       "      <th>82936</th>\n",
       "      <td>NaN</td>\n",
       "      <td>EV</td>\n",
       "      <td>0.0</td>\n",
       "      <td>0.0</td>\n",
       "      <td>56.0</td>\n",
       "      <td>4.0</td>\n",
       "      <td>59.0</td>\n",
       "      <td>N</td>\n",
       "      <td>0.0</td>\n",
       "      <td>14.0</td>\n",
       "      <td>...</td>\n",
       "      <td>N716EV</td>\n",
       "      <td>4.0</td>\n",
       "      <td>21.0</td>\n",
       "      <td>327661.0</td>\n",
       "      <td>178884.0</td>\n",
       "      <td>0.0</td>\n",
       "      <td>49.0</td>\n",
       "      <td>2359.0</td>\n",
       "      <td>55.0</td>\n",
       "      <td>2015.0</td>\n",
       "    </tr>\n",
       "    <tr>\n",
       "      <th>82937</th>\n",
       "      <td>NaN</td>\n",
       "      <td>EV</td>\n",
       "      <td>128.0</td>\n",
       "      <td>4.0</td>\n",
       "      <td>78.0</td>\n",
       "      <td>2.2</td>\n",
       "      <td>1904.0</td>\n",
       "      <td>N</td>\n",
       "      <td>0.0</td>\n",
       "      <td>30.0</td>\n",
       "      <td>...</td>\n",
       "      <td>N974EV</td>\n",
       "      <td>4.0</td>\n",
       "      <td>16.0</td>\n",
       "      <td>605601.0</td>\n",
       "      <td>632778.0</td>\n",
       "      <td>0.0</td>\n",
       "      <td>17.0</td>\n",
       "      <td>1842.0</td>\n",
       "      <td>1900.0</td>\n",
       "      <td>2015.0</td>\n",
       "    </tr>\n",
       "    <tr>\n",
       "      <th>82952</th>\n",
       "      <td>NaN</td>\n",
       "      <td>EV</td>\n",
       "      <td>0.0</td>\n",
       "      <td>0.0</td>\n",
       "      <td>111.0</td>\n",
       "      <td>3.8</td>\n",
       "      <td>2345.0</td>\n",
       "      <td>N</td>\n",
       "      <td>0.0</td>\n",
       "      <td>28.0</td>\n",
       "      <td>...</td>\n",
       "      <td>N16170</td>\n",
       "      <td>14.0</td>\n",
       "      <td>15.0</td>\n",
       "      <td>579610.0</td>\n",
       "      <td>370410.0</td>\n",
       "      <td>0.0</td>\n",
       "      <td>47.0</td>\n",
       "      <td>2040.0</td>\n",
       "      <td>2331.0</td>\n",
       "      <td>2015.0</td>\n",
       "    </tr>\n",
       "  </tbody>\n",
       "</table>\n",
       "<p>10775 rows × 37 columns</p>\n",
       "</div>"
      ],
      "text/plain": [
       "        0 AIRLINE  AIRLINE_DELAY  AIR_SYSTEM_DELAY  AIR_TIME  ARRIVAL_DELAY  \\\n",
       "5     NaN      EV            0.0             120.0     137.0            2.0   \n",
       "12    NaN      EV            0.0              14.0      34.0            2.1   \n",
       "29    NaN      EV           10.0              17.0      50.0            2.2   \n",
       "41    NaN      EV            0.0               2.0      89.0            3.0   \n",
       "44    NaN      EV           53.0              39.0      33.0            3.6   \n",
       "...    ..     ...            ...               ...       ...            ...   \n",
       "82929 NaN      EV            0.0               0.0     145.0            3.0   \n",
       "82935 NaN      EV          189.0               0.0      77.0            3.2   \n",
       "82936 NaN      EV            0.0               0.0      56.0            4.0   \n",
       "82937 NaN      EV          128.0               4.0      78.0            2.2   \n",
       "82952 NaN      EV            0.0               0.0     111.0            3.8   \n",
       "\n",
       "       ARRIVAL_TIME CANCELLATION_REASON  CANCELLED   DAY  ...  TAIL_NUMBER  \\\n",
       "5            1024.0                   N        0.0  13.0  ...       N13979   \n",
       "12           2339.0                   N        0.0  16.0  ...       N626AE   \n",
       "29           1745.0                   N        0.0  30.0  ...       N871AS   \n",
       "41            115.0                   N        0.0   4.0  ...       N629AE   \n",
       "44              8.0                   N        0.0  10.0  ...       N723EV   \n",
       "...             ...                 ...        ...   ...  ...          ...   \n",
       "82929        1631.0                   N        0.0  29.0  ...       N709EV   \n",
       "82935        1717.0                   N        0.0  24.0  ...       N718EV   \n",
       "82936          59.0                   N        0.0  14.0  ...       N716EV   \n",
       "82937        1904.0                   N        0.0  30.0  ...       N974EV   \n",
       "82952        2345.0                   N        0.0  28.0  ...       N16170   \n",
       "\n",
       "       TAXI_IN  TAXI_OUT  Unnamed: 0 Unnamed: 0.1  WEATHER_DELAY  WEEK  \\\n",
       "5         20.0      10.0    450434.0     867008.0            0.0  27.0   \n",
       "12         5.0      40.0    130272.0     689447.0            0.0  23.0   \n",
       "29         7.0      28.0    690982.0     447446.0            0.0  52.0   \n",
       "41        10.0       6.0    548443.0     106695.0            0.0  22.0   \n",
       "44        42.0      17.0    588278.0     407338.0            0.0  14.0   \n",
       "...        ...       ...         ...          ...            ...   ...   \n",
       "82929     15.0      32.0    624547.0     146848.0            0.0  17.0   \n",
       "82935      5.0      10.0    812150.0     112681.0            0.0  51.0   \n",
       "82936      4.0      21.0    327661.0     178884.0            0.0  49.0   \n",
       "82937      4.0      16.0    605601.0     632778.0            0.0  17.0   \n",
       "82952     14.0      15.0    579610.0     370410.0            0.0  47.0   \n",
       "\n",
       "       WHEELS_OFF  WHEELS_ON    YEAR  \n",
       "5           847.0     1004.0  2015.0  \n",
       "12         2300.0     2334.0  2015.0  \n",
       "29         1648.0     1738.0  2015.0  \n",
       "41         2336.0      105.0  2015.0  \n",
       "44         2253.0     2326.0  2015.0  \n",
       "...           ...        ...     ...  \n",
       "82929      1451.0     1616.0  2015.0  \n",
       "82935      1455.0     1712.0  2015.0  \n",
       "82936      2359.0       55.0  2015.0  \n",
       "82937      1842.0     1900.0  2015.0  \n",
       "82952      2040.0     2331.0  2015.0  \n",
       "\n",
       "[10775 rows x 37 columns]"
      ]
     },
     "metadata": {},
     "output_type": "display_data"
    }
   ],
   "source": [
    "ev_data1=no_null_data[no_null_data.AIRLINE == 'EV']\n",
    "# df['A'] = df['A'].div(100)\n",
    "aa=ev_data1['ARRIVAL_DELAY']=ev_data1['ARRIVAL_DELAY'].div(60).round(1)\n",
    "evdata=pd.concat([ev_data1, aa], ignore_index=True, sort=False)\n",
    "evdata.head()\n",
    "a = evdata[(evdata['ARRIVAL_DELAY'] >= 2)]\n",
    "ev_data = a[(evdata['ARRIVAL_DELAY'] <= 6)]\n",
    "print(\"'EV' airline data which have at least 2 hours but at most 6 hours of delay\")\n",
    "display(ev_data)\n"
   ]
  },
  {
   "cell_type": "code",
   "execution_count": 9,
   "metadata": {},
   "outputs": [
    {
     "data": {
      "text/html": [
       "<div>\n",
       "<style scoped>\n",
       "    .dataframe tbody tr th:only-of-type {\n",
       "        vertical-align: middle;\n",
       "    }\n",
       "\n",
       "    .dataframe tbody tr th {\n",
       "        vertical-align: top;\n",
       "    }\n",
       "\n",
       "    .dataframe thead th {\n",
       "        text-align: right;\n",
       "    }\n",
       "</style>\n",
       "<table border=\"1\" class=\"dataframe\">\n",
       "  <thead>\n",
       "    <tr style=\"text-align: right;\">\n",
       "      <th></th>\n",
       "      <th>0</th>\n",
       "      <th>AIRLINE</th>\n",
       "      <th>AIRLINE_DELAY</th>\n",
       "      <th>AIR_SYSTEM_DELAY</th>\n",
       "      <th>AIR_TIME</th>\n",
       "      <th>ARRIVAL_DELAY</th>\n",
       "      <th>ARRIVAL_TIME</th>\n",
       "      <th>CANCELLATION_REASON</th>\n",
       "      <th>CANCELLED</th>\n",
       "      <th>DAY</th>\n",
       "      <th>...</th>\n",
       "      <th>TAIL_NUMBER</th>\n",
       "      <th>TAXI_IN</th>\n",
       "      <th>TAXI_OUT</th>\n",
       "      <th>Unnamed: 0</th>\n",
       "      <th>Unnamed: 0.1</th>\n",
       "      <th>WEATHER_DELAY</th>\n",
       "      <th>WEEK</th>\n",
       "      <th>WHEELS_OFF</th>\n",
       "      <th>WHEELS_ON</th>\n",
       "      <th>YEAR</th>\n",
       "    </tr>\n",
       "  </thead>\n",
       "  <tbody>\n",
       "    <tr>\n",
       "      <th>5</th>\n",
       "      <td>NaN</td>\n",
       "      <td>EV</td>\n",
       "      <td>0.0</td>\n",
       "      <td>120.0</td>\n",
       "      <td>137.0</td>\n",
       "      <td>2.0</td>\n",
       "      <td>1024.0</td>\n",
       "      <td>N</td>\n",
       "      <td>0.0</td>\n",
       "      <td>13.0</td>\n",
       "      <td>...</td>\n",
       "      <td>N13979</td>\n",
       "      <td>20.0</td>\n",
       "      <td>10.0</td>\n",
       "      <td>450434.0</td>\n",
       "      <td>867008.0</td>\n",
       "      <td>0.0</td>\n",
       "      <td>27.0</td>\n",
       "      <td>847.0</td>\n",
       "      <td>1004.0</td>\n",
       "      <td>2015.0</td>\n",
       "    </tr>\n",
       "    <tr>\n",
       "      <th>12</th>\n",
       "      <td>NaN</td>\n",
       "      <td>EV</td>\n",
       "      <td>0.0</td>\n",
       "      <td>14.0</td>\n",
       "      <td>34.0</td>\n",
       "      <td>2.1</td>\n",
       "      <td>2339.0</td>\n",
       "      <td>N</td>\n",
       "      <td>0.0</td>\n",
       "      <td>16.0</td>\n",
       "      <td>...</td>\n",
       "      <td>N626AE</td>\n",
       "      <td>5.0</td>\n",
       "      <td>40.0</td>\n",
       "      <td>130272.0</td>\n",
       "      <td>689447.0</td>\n",
       "      <td>0.0</td>\n",
       "      <td>23.0</td>\n",
       "      <td>2300.0</td>\n",
       "      <td>2334.0</td>\n",
       "      <td>2015.0</td>\n",
       "    </tr>\n",
       "    <tr>\n",
       "      <th>29</th>\n",
       "      <td>NaN</td>\n",
       "      <td>EV</td>\n",
       "      <td>10.0</td>\n",
       "      <td>17.0</td>\n",
       "      <td>50.0</td>\n",
       "      <td>2.2</td>\n",
       "      <td>1745.0</td>\n",
       "      <td>N</td>\n",
       "      <td>0.0</td>\n",
       "      <td>30.0</td>\n",
       "      <td>...</td>\n",
       "      <td>N871AS</td>\n",
       "      <td>7.0</td>\n",
       "      <td>28.0</td>\n",
       "      <td>690982.0</td>\n",
       "      <td>447446.0</td>\n",
       "      <td>0.0</td>\n",
       "      <td>52.0</td>\n",
       "      <td>1648.0</td>\n",
       "      <td>1738.0</td>\n",
       "      <td>2015.0</td>\n",
       "    </tr>\n",
       "    <tr>\n",
       "      <th>41</th>\n",
       "      <td>NaN</td>\n",
       "      <td>EV</td>\n",
       "      <td>0.0</td>\n",
       "      <td>2.0</td>\n",
       "      <td>89.0</td>\n",
       "      <td>3.0</td>\n",
       "      <td>115.0</td>\n",
       "      <td>N</td>\n",
       "      <td>0.0</td>\n",
       "      <td>4.0</td>\n",
       "      <td>...</td>\n",
       "      <td>N629AE</td>\n",
       "      <td>10.0</td>\n",
       "      <td>6.0</td>\n",
       "      <td>548443.0</td>\n",
       "      <td>106695.0</td>\n",
       "      <td>0.0</td>\n",
       "      <td>22.0</td>\n",
       "      <td>2336.0</td>\n",
       "      <td>105.0</td>\n",
       "      <td>2015.0</td>\n",
       "    </tr>\n",
       "    <tr>\n",
       "      <th>44</th>\n",
       "      <td>NaN</td>\n",
       "      <td>EV</td>\n",
       "      <td>53.0</td>\n",
       "      <td>39.0</td>\n",
       "      <td>33.0</td>\n",
       "      <td>3.6</td>\n",
       "      <td>8.0</td>\n",
       "      <td>N</td>\n",
       "      <td>0.0</td>\n",
       "      <td>10.0</td>\n",
       "      <td>...</td>\n",
       "      <td>N723EV</td>\n",
       "      <td>42.0</td>\n",
       "      <td>17.0</td>\n",
       "      <td>588278.0</td>\n",
       "      <td>407338.0</td>\n",
       "      <td>0.0</td>\n",
       "      <td>14.0</td>\n",
       "      <td>2253.0</td>\n",
       "      <td>2326.0</td>\n",
       "      <td>2015.0</td>\n",
       "    </tr>\n",
       "    <tr>\n",
       "      <th>...</th>\n",
       "      <td>...</td>\n",
       "      <td>...</td>\n",
       "      <td>...</td>\n",
       "      <td>...</td>\n",
       "      <td>...</td>\n",
       "      <td>...</td>\n",
       "      <td>...</td>\n",
       "      <td>...</td>\n",
       "      <td>...</td>\n",
       "      <td>...</td>\n",
       "      <td>...</td>\n",
       "      <td>...</td>\n",
       "      <td>...</td>\n",
       "      <td>...</td>\n",
       "      <td>...</td>\n",
       "      <td>...</td>\n",
       "      <td>...</td>\n",
       "      <td>...</td>\n",
       "      <td>...</td>\n",
       "      <td>...</td>\n",
       "      <td>...</td>\n",
       "    </tr>\n",
       "    <tr>\n",
       "      <th>82929</th>\n",
       "      <td>NaN</td>\n",
       "      <td>EV</td>\n",
       "      <td>0.0</td>\n",
       "      <td>0.0</td>\n",
       "      <td>145.0</td>\n",
       "      <td>3.0</td>\n",
       "      <td>1631.0</td>\n",
       "      <td>N</td>\n",
       "      <td>0.0</td>\n",
       "      <td>29.0</td>\n",
       "      <td>...</td>\n",
       "      <td>N709EV</td>\n",
       "      <td>15.0</td>\n",
       "      <td>32.0</td>\n",
       "      <td>624547.0</td>\n",
       "      <td>146848.0</td>\n",
       "      <td>0.0</td>\n",
       "      <td>17.0</td>\n",
       "      <td>1451.0</td>\n",
       "      <td>1616.0</td>\n",
       "      <td>2015.0</td>\n",
       "    </tr>\n",
       "    <tr>\n",
       "      <th>82935</th>\n",
       "      <td>NaN</td>\n",
       "      <td>EV</td>\n",
       "      <td>189.0</td>\n",
       "      <td>0.0</td>\n",
       "      <td>77.0</td>\n",
       "      <td>3.2</td>\n",
       "      <td>1717.0</td>\n",
       "      <td>N</td>\n",
       "      <td>0.0</td>\n",
       "      <td>24.0</td>\n",
       "      <td>...</td>\n",
       "      <td>N718EV</td>\n",
       "      <td>5.0</td>\n",
       "      <td>10.0</td>\n",
       "      <td>812150.0</td>\n",
       "      <td>112681.0</td>\n",
       "      <td>0.0</td>\n",
       "      <td>51.0</td>\n",
       "      <td>1455.0</td>\n",
       "      <td>1712.0</td>\n",
       "      <td>2015.0</td>\n",
       "    </tr>\n",
       "    <tr>\n",
       "      <th>82936</th>\n",
       "      <td>NaN</td>\n",
       "      <td>EV</td>\n",
       "      <td>0.0</td>\n",
       "      <td>0.0</td>\n",
       "      <td>56.0</td>\n",
       "      <td>4.0</td>\n",
       "      <td>59.0</td>\n",
       "      <td>N</td>\n",
       "      <td>0.0</td>\n",
       "      <td>14.0</td>\n",
       "      <td>...</td>\n",
       "      <td>N716EV</td>\n",
       "      <td>4.0</td>\n",
       "      <td>21.0</td>\n",
       "      <td>327661.0</td>\n",
       "      <td>178884.0</td>\n",
       "      <td>0.0</td>\n",
       "      <td>49.0</td>\n",
       "      <td>2359.0</td>\n",
       "      <td>55.0</td>\n",
       "      <td>2015.0</td>\n",
       "    </tr>\n",
       "    <tr>\n",
       "      <th>82937</th>\n",
       "      <td>NaN</td>\n",
       "      <td>EV</td>\n",
       "      <td>128.0</td>\n",
       "      <td>4.0</td>\n",
       "      <td>78.0</td>\n",
       "      <td>2.2</td>\n",
       "      <td>1904.0</td>\n",
       "      <td>N</td>\n",
       "      <td>0.0</td>\n",
       "      <td>30.0</td>\n",
       "      <td>...</td>\n",
       "      <td>N974EV</td>\n",
       "      <td>4.0</td>\n",
       "      <td>16.0</td>\n",
       "      <td>605601.0</td>\n",
       "      <td>632778.0</td>\n",
       "      <td>0.0</td>\n",
       "      <td>17.0</td>\n",
       "      <td>1842.0</td>\n",
       "      <td>1900.0</td>\n",
       "      <td>2015.0</td>\n",
       "    </tr>\n",
       "    <tr>\n",
       "      <th>82952</th>\n",
       "      <td>NaN</td>\n",
       "      <td>EV</td>\n",
       "      <td>0.0</td>\n",
       "      <td>0.0</td>\n",
       "      <td>111.0</td>\n",
       "      <td>3.8</td>\n",
       "      <td>2345.0</td>\n",
       "      <td>N</td>\n",
       "      <td>0.0</td>\n",
       "      <td>28.0</td>\n",
       "      <td>...</td>\n",
       "      <td>N16170</td>\n",
       "      <td>14.0</td>\n",
       "      <td>15.0</td>\n",
       "      <td>579610.0</td>\n",
       "      <td>370410.0</td>\n",
       "      <td>0.0</td>\n",
       "      <td>47.0</td>\n",
       "      <td>2040.0</td>\n",
       "      <td>2331.0</td>\n",
       "      <td>2015.0</td>\n",
       "    </tr>\n",
       "  </tbody>\n",
       "</table>\n",
       "<p>10749 rows × 37 columns</p>\n",
       "</div>"
      ],
      "text/plain": [
       "        0 AIRLINE  AIRLINE_DELAY  AIR_SYSTEM_DELAY  AIR_TIME  ARRIVAL_DELAY  \\\n",
       "5     NaN      EV            0.0             120.0     137.0            2.0   \n",
       "12    NaN      EV            0.0              14.0      34.0            2.1   \n",
       "29    NaN      EV           10.0              17.0      50.0            2.2   \n",
       "41    NaN      EV            0.0               2.0      89.0            3.0   \n",
       "44    NaN      EV           53.0              39.0      33.0            3.6   \n",
       "...    ..     ...            ...               ...       ...            ...   \n",
       "82929 NaN      EV            0.0               0.0     145.0            3.0   \n",
       "82935 NaN      EV          189.0               0.0      77.0            3.2   \n",
       "82936 NaN      EV            0.0               0.0      56.0            4.0   \n",
       "82937 NaN      EV          128.0               4.0      78.0            2.2   \n",
       "82952 NaN      EV            0.0               0.0     111.0            3.8   \n",
       "\n",
       "       ARRIVAL_TIME CANCELLATION_REASON  CANCELLED   DAY  ...  TAIL_NUMBER  \\\n",
       "5            1024.0                   N        0.0  13.0  ...       N13979   \n",
       "12           2339.0                   N        0.0  16.0  ...       N626AE   \n",
       "29           1745.0                   N        0.0  30.0  ...       N871AS   \n",
       "41            115.0                   N        0.0   4.0  ...       N629AE   \n",
       "44              8.0                   N        0.0  10.0  ...       N723EV   \n",
       "...             ...                 ...        ...   ...  ...          ...   \n",
       "82929        1631.0                   N        0.0  29.0  ...       N709EV   \n",
       "82935        1717.0                   N        0.0  24.0  ...       N718EV   \n",
       "82936          59.0                   N        0.0  14.0  ...       N716EV   \n",
       "82937        1904.0                   N        0.0  30.0  ...       N974EV   \n",
       "82952        2345.0                   N        0.0  28.0  ...       N16170   \n",
       "\n",
       "       TAXI_IN  TAXI_OUT  Unnamed: 0 Unnamed: 0.1  WEATHER_DELAY  WEEK  \\\n",
       "5         20.0      10.0    450434.0     867008.0            0.0  27.0   \n",
       "12         5.0      40.0    130272.0     689447.0            0.0  23.0   \n",
       "29         7.0      28.0    690982.0     447446.0            0.0  52.0   \n",
       "41        10.0       6.0    548443.0     106695.0            0.0  22.0   \n",
       "44        42.0      17.0    588278.0     407338.0            0.0  14.0   \n",
       "...        ...       ...         ...          ...            ...   ...   \n",
       "82929     15.0      32.0    624547.0     146848.0            0.0  17.0   \n",
       "82935      5.0      10.0    812150.0     112681.0            0.0  51.0   \n",
       "82936      4.0      21.0    327661.0     178884.0            0.0  49.0   \n",
       "82937      4.0      16.0    605601.0     632778.0            0.0  17.0   \n",
       "82952     14.0      15.0    579610.0     370410.0            0.0  47.0   \n",
       "\n",
       "       WHEELS_OFF  WHEELS_ON    YEAR  \n",
       "5           847.0     1004.0  2015.0  \n",
       "12         2300.0     2334.0  2015.0  \n",
       "29         1648.0     1738.0  2015.0  \n",
       "41         2336.0      105.0  2015.0  \n",
       "44         2253.0     2326.0  2015.0  \n",
       "...           ...        ...     ...  \n",
       "82929      1451.0     1616.0  2015.0  \n",
       "82935      1455.0     1712.0  2015.0  \n",
       "82936      2359.0       55.0  2015.0  \n",
       "82937      1842.0     1900.0  2015.0  \n",
       "82952      2040.0     2331.0  2015.0  \n",
       "\n",
       "[10749 rows x 37 columns]"
      ]
     },
     "execution_count": 9,
     "metadata": {},
     "output_type": "execute_result"
    },
    {
     "data": {
      "image/png": "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\n",
      "text/plain": [
       "<Figure size 432x288 with 1 Axes>"
      ]
     },
     "metadata": {
      "needs_background": "light"
     },
     "output_type": "display_data"
    }
   ],
   "source": [
    "# ev_data\n",
    "# data2=ev_data['LATE_AIRCRAFT_DELAY'].plot(kind='box');\n",
    "Q1 = ev_data['LATE_AIRCRAFT_DELAY'].quantile(0.25)\n",
    "Q3 = ev_data['LATE_AIRCRAFT_DELAY'].quantile(0.75)\n",
    "IQR = Q3 - Q1    #IQR is interquartile range. \n",
    "cleaned_data_late_aircraft = (ev_data['LATE_AIRCRAFT_DELAY'] >= Q1 - 1.5 * IQR) & (ev_data['LATE_AIRCRAFT_DELAY'] <= Q3 + 1.5 *IQR)\n",
    "cleaned_data_late_aircraft=ev_data.loc[cleaned_data_late_aircraft] \n",
    "data2=cleaned_data_late_aircraft['LATE_AIRCRAFT_DELAY'].plot(kind='box');\n",
    "cleaned_data_late_aircraft\n"
   ]
  },
  {
   "cell_type": "code",
   "execution_count": 10,
   "metadata": {},
   "outputs": [
    {
     "data": {
      "text/html": [
       "<div>\n",
       "<style scoped>\n",
       "    .dataframe tbody tr th:only-of-type {\n",
       "        vertical-align: middle;\n",
       "    }\n",
       "\n",
       "    .dataframe tbody tr th {\n",
       "        vertical-align: top;\n",
       "    }\n",
       "\n",
       "    .dataframe thead th {\n",
       "        text-align: right;\n",
       "    }\n",
       "</style>\n",
       "<table border=\"1\" class=\"dataframe\">\n",
       "  <thead>\n",
       "    <tr style=\"text-align: right;\">\n",
       "      <th></th>\n",
       "      <th>0</th>\n",
       "      <th>AIRLINE</th>\n",
       "      <th>AIRLINE_DELAY</th>\n",
       "      <th>AIR_SYSTEM_DELAY</th>\n",
       "      <th>AIR_TIME</th>\n",
       "      <th>ARRIVAL_DELAY</th>\n",
       "      <th>ARRIVAL_TIME</th>\n",
       "      <th>CANCELLATION_REASON</th>\n",
       "      <th>CANCELLED</th>\n",
       "      <th>DAY</th>\n",
       "      <th>...</th>\n",
       "      <th>TAIL_NUMBER</th>\n",
       "      <th>TAXI_IN</th>\n",
       "      <th>TAXI_OUT</th>\n",
       "      <th>Unnamed: 0</th>\n",
       "      <th>Unnamed: 0.1</th>\n",
       "      <th>WEATHER_DELAY</th>\n",
       "      <th>WEEK</th>\n",
       "      <th>WHEELS_OFF</th>\n",
       "      <th>WHEELS_ON</th>\n",
       "      <th>YEAR</th>\n",
       "    </tr>\n",
       "  </thead>\n",
       "  <tbody>\n",
       "    <tr>\n",
       "      <th>12</th>\n",
       "      <td>NaN</td>\n",
       "      <td>EV</td>\n",
       "      <td>0.0</td>\n",
       "      <td>14.0</td>\n",
       "      <td>34.0</td>\n",
       "      <td>2.1</td>\n",
       "      <td>2339.0</td>\n",
       "      <td>N</td>\n",
       "      <td>0.0</td>\n",
       "      <td>16.0</td>\n",
       "      <td>...</td>\n",
       "      <td>N626AE</td>\n",
       "      <td>5.0</td>\n",
       "      <td>40.0</td>\n",
       "      <td>130272.0</td>\n",
       "      <td>689447.0</td>\n",
       "      <td>0.0</td>\n",
       "      <td>23.0</td>\n",
       "      <td>2300.0</td>\n",
       "      <td>2334.0</td>\n",
       "      <td>2015.0</td>\n",
       "    </tr>\n",
       "    <tr>\n",
       "      <th>29</th>\n",
       "      <td>NaN</td>\n",
       "      <td>EV</td>\n",
       "      <td>10.0</td>\n",
       "      <td>17.0</td>\n",
       "      <td>50.0</td>\n",
       "      <td>2.2</td>\n",
       "      <td>1745.0</td>\n",
       "      <td>N</td>\n",
       "      <td>0.0</td>\n",
       "      <td>30.0</td>\n",
       "      <td>...</td>\n",
       "      <td>N871AS</td>\n",
       "      <td>7.0</td>\n",
       "      <td>28.0</td>\n",
       "      <td>690982.0</td>\n",
       "      <td>447446.0</td>\n",
       "      <td>0.0</td>\n",
       "      <td>52.0</td>\n",
       "      <td>1648.0</td>\n",
       "      <td>1738.0</td>\n",
       "      <td>2015.0</td>\n",
       "    </tr>\n",
       "    <tr>\n",
       "      <th>41</th>\n",
       "      <td>NaN</td>\n",
       "      <td>EV</td>\n",
       "      <td>0.0</td>\n",
       "      <td>2.0</td>\n",
       "      <td>89.0</td>\n",
       "      <td>3.0</td>\n",
       "      <td>115.0</td>\n",
       "      <td>N</td>\n",
       "      <td>0.0</td>\n",
       "      <td>4.0</td>\n",
       "      <td>...</td>\n",
       "      <td>N629AE</td>\n",
       "      <td>10.0</td>\n",
       "      <td>6.0</td>\n",
       "      <td>548443.0</td>\n",
       "      <td>106695.0</td>\n",
       "      <td>0.0</td>\n",
       "      <td>22.0</td>\n",
       "      <td>2336.0</td>\n",
       "      <td>105.0</td>\n",
       "      <td>2015.0</td>\n",
       "    </tr>\n",
       "    <tr>\n",
       "      <th>44</th>\n",
       "      <td>NaN</td>\n",
       "      <td>EV</td>\n",
       "      <td>53.0</td>\n",
       "      <td>39.0</td>\n",
       "      <td>33.0</td>\n",
       "      <td>3.6</td>\n",
       "      <td>8.0</td>\n",
       "      <td>N</td>\n",
       "      <td>0.0</td>\n",
       "      <td>10.0</td>\n",
       "      <td>...</td>\n",
       "      <td>N723EV</td>\n",
       "      <td>42.0</td>\n",
       "      <td>17.0</td>\n",
       "      <td>588278.0</td>\n",
       "      <td>407338.0</td>\n",
       "      <td>0.0</td>\n",
       "      <td>14.0</td>\n",
       "      <td>2253.0</td>\n",
       "      <td>2326.0</td>\n",
       "      <td>2015.0</td>\n",
       "    </tr>\n",
       "    <tr>\n",
       "      <th>49</th>\n",
       "      <td>NaN</td>\n",
       "      <td>EV</td>\n",
       "      <td>0.0</td>\n",
       "      <td>0.0</td>\n",
       "      <td>89.0</td>\n",
       "      <td>2.6</td>\n",
       "      <td>1430.0</td>\n",
       "      <td>N</td>\n",
       "      <td>0.0</td>\n",
       "      <td>31.0</td>\n",
       "      <td>...</td>\n",
       "      <td>N18557</td>\n",
       "      <td>9.0</td>\n",
       "      <td>10.0</td>\n",
       "      <td>561074.0</td>\n",
       "      <td>311055.0</td>\n",
       "      <td>0.0</td>\n",
       "      <td>34.0</td>\n",
       "      <td>1252.0</td>\n",
       "      <td>1421.0</td>\n",
       "      <td>2015.0</td>\n",
       "    </tr>\n",
       "    <tr>\n",
       "      <th>...</th>\n",
       "      <td>...</td>\n",
       "      <td>...</td>\n",
       "      <td>...</td>\n",
       "      <td>...</td>\n",
       "      <td>...</td>\n",
       "      <td>...</td>\n",
       "      <td>...</td>\n",
       "      <td>...</td>\n",
       "      <td>...</td>\n",
       "      <td>...</td>\n",
       "      <td>...</td>\n",
       "      <td>...</td>\n",
       "      <td>...</td>\n",
       "      <td>...</td>\n",
       "      <td>...</td>\n",
       "      <td>...</td>\n",
       "      <td>...</td>\n",
       "      <td>...</td>\n",
       "      <td>...</td>\n",
       "      <td>...</td>\n",
       "      <td>...</td>\n",
       "    </tr>\n",
       "    <tr>\n",
       "      <th>82929</th>\n",
       "      <td>NaN</td>\n",
       "      <td>EV</td>\n",
       "      <td>0.0</td>\n",
       "      <td>0.0</td>\n",
       "      <td>145.0</td>\n",
       "      <td>3.0</td>\n",
       "      <td>1631.0</td>\n",
       "      <td>N</td>\n",
       "      <td>0.0</td>\n",
       "      <td>29.0</td>\n",
       "      <td>...</td>\n",
       "      <td>N709EV</td>\n",
       "      <td>15.0</td>\n",
       "      <td>32.0</td>\n",
       "      <td>624547.0</td>\n",
       "      <td>146848.0</td>\n",
       "      <td>0.0</td>\n",
       "      <td>17.0</td>\n",
       "      <td>1451.0</td>\n",
       "      <td>1616.0</td>\n",
       "      <td>2015.0</td>\n",
       "    </tr>\n",
       "    <tr>\n",
       "      <th>82935</th>\n",
       "      <td>NaN</td>\n",
       "      <td>EV</td>\n",
       "      <td>189.0</td>\n",
       "      <td>0.0</td>\n",
       "      <td>77.0</td>\n",
       "      <td>3.2</td>\n",
       "      <td>1717.0</td>\n",
       "      <td>N</td>\n",
       "      <td>0.0</td>\n",
       "      <td>24.0</td>\n",
       "      <td>...</td>\n",
       "      <td>N718EV</td>\n",
       "      <td>5.0</td>\n",
       "      <td>10.0</td>\n",
       "      <td>812150.0</td>\n",
       "      <td>112681.0</td>\n",
       "      <td>0.0</td>\n",
       "      <td>51.0</td>\n",
       "      <td>1455.0</td>\n",
       "      <td>1712.0</td>\n",
       "      <td>2015.0</td>\n",
       "    </tr>\n",
       "    <tr>\n",
       "      <th>82936</th>\n",
       "      <td>NaN</td>\n",
       "      <td>EV</td>\n",
       "      <td>0.0</td>\n",
       "      <td>0.0</td>\n",
       "      <td>56.0</td>\n",
       "      <td>4.0</td>\n",
       "      <td>59.0</td>\n",
       "      <td>N</td>\n",
       "      <td>0.0</td>\n",
       "      <td>14.0</td>\n",
       "      <td>...</td>\n",
       "      <td>N716EV</td>\n",
       "      <td>4.0</td>\n",
       "      <td>21.0</td>\n",
       "      <td>327661.0</td>\n",
       "      <td>178884.0</td>\n",
       "      <td>0.0</td>\n",
       "      <td>49.0</td>\n",
       "      <td>2359.0</td>\n",
       "      <td>55.0</td>\n",
       "      <td>2015.0</td>\n",
       "    </tr>\n",
       "    <tr>\n",
       "      <th>82937</th>\n",
       "      <td>NaN</td>\n",
       "      <td>EV</td>\n",
       "      <td>128.0</td>\n",
       "      <td>4.0</td>\n",
       "      <td>78.0</td>\n",
       "      <td>2.2</td>\n",
       "      <td>1904.0</td>\n",
       "      <td>N</td>\n",
       "      <td>0.0</td>\n",
       "      <td>30.0</td>\n",
       "      <td>...</td>\n",
       "      <td>N974EV</td>\n",
       "      <td>4.0</td>\n",
       "      <td>16.0</td>\n",
       "      <td>605601.0</td>\n",
       "      <td>632778.0</td>\n",
       "      <td>0.0</td>\n",
       "      <td>17.0</td>\n",
       "      <td>1842.0</td>\n",
       "      <td>1900.0</td>\n",
       "      <td>2015.0</td>\n",
       "    </tr>\n",
       "    <tr>\n",
       "      <th>82952</th>\n",
       "      <td>NaN</td>\n",
       "      <td>EV</td>\n",
       "      <td>0.0</td>\n",
       "      <td>0.0</td>\n",
       "      <td>111.0</td>\n",
       "      <td>3.8</td>\n",
       "      <td>2345.0</td>\n",
       "      <td>N</td>\n",
       "      <td>0.0</td>\n",
       "      <td>28.0</td>\n",
       "      <td>...</td>\n",
       "      <td>N16170</td>\n",
       "      <td>14.0</td>\n",
       "      <td>15.0</td>\n",
       "      <td>579610.0</td>\n",
       "      <td>370410.0</td>\n",
       "      <td>0.0</td>\n",
       "      <td>47.0</td>\n",
       "      <td>2040.0</td>\n",
       "      <td>2331.0</td>\n",
       "      <td>2015.0</td>\n",
       "    </tr>\n",
       "  </tbody>\n",
       "</table>\n",
       "<p>9012 rows × 37 columns</p>\n",
       "</div>"
      ],
      "text/plain": [
       "        0 AIRLINE  AIRLINE_DELAY  AIR_SYSTEM_DELAY  AIR_TIME  ARRIVAL_DELAY  \\\n",
       "12    NaN      EV            0.0              14.0      34.0            2.1   \n",
       "29    NaN      EV           10.0              17.0      50.0            2.2   \n",
       "41    NaN      EV            0.0               2.0      89.0            3.0   \n",
       "44    NaN      EV           53.0              39.0      33.0            3.6   \n",
       "49    NaN      EV            0.0               0.0      89.0            2.6   \n",
       "...    ..     ...            ...               ...       ...            ...   \n",
       "82929 NaN      EV            0.0               0.0     145.0            3.0   \n",
       "82935 NaN      EV          189.0               0.0      77.0            3.2   \n",
       "82936 NaN      EV            0.0               0.0      56.0            4.0   \n",
       "82937 NaN      EV          128.0               4.0      78.0            2.2   \n",
       "82952 NaN      EV            0.0               0.0     111.0            3.8   \n",
       "\n",
       "       ARRIVAL_TIME CANCELLATION_REASON  CANCELLED   DAY  ...  TAIL_NUMBER  \\\n",
       "12           2339.0                   N        0.0  16.0  ...       N626AE   \n",
       "29           1745.0                   N        0.0  30.0  ...       N871AS   \n",
       "41            115.0                   N        0.0   4.0  ...       N629AE   \n",
       "44              8.0                   N        0.0  10.0  ...       N723EV   \n",
       "49           1430.0                   N        0.0  31.0  ...       N18557   \n",
       "...             ...                 ...        ...   ...  ...          ...   \n",
       "82929        1631.0                   N        0.0  29.0  ...       N709EV   \n",
       "82935        1717.0                   N        0.0  24.0  ...       N718EV   \n",
       "82936          59.0                   N        0.0  14.0  ...       N716EV   \n",
       "82937        1904.0                   N        0.0  30.0  ...       N974EV   \n",
       "82952        2345.0                   N        0.0  28.0  ...       N16170   \n",
       "\n",
       "       TAXI_IN  TAXI_OUT  Unnamed: 0 Unnamed: 0.1  WEATHER_DELAY  WEEK  \\\n",
       "12         5.0      40.0    130272.0     689447.0            0.0  23.0   \n",
       "29         7.0      28.0    690982.0     447446.0            0.0  52.0   \n",
       "41        10.0       6.0    548443.0     106695.0            0.0  22.0   \n",
       "44        42.0      17.0    588278.0     407338.0            0.0  14.0   \n",
       "49         9.0      10.0    561074.0     311055.0            0.0  34.0   \n",
       "...        ...       ...         ...          ...            ...   ...   \n",
       "82929     15.0      32.0    624547.0     146848.0            0.0  17.0   \n",
       "82935      5.0      10.0    812150.0     112681.0            0.0  51.0   \n",
       "82936      4.0      21.0    327661.0     178884.0            0.0  49.0   \n",
       "82937      4.0      16.0    605601.0     632778.0            0.0  17.0   \n",
       "82952     14.0      15.0    579610.0     370410.0            0.0  47.0   \n",
       "\n",
       "       WHEELS_OFF  WHEELS_ON    YEAR  \n",
       "12         2300.0     2334.0  2015.0  \n",
       "29         1648.0     1738.0  2015.0  \n",
       "41         2336.0      105.0  2015.0  \n",
       "44         2253.0     2326.0  2015.0  \n",
       "49         1252.0     1421.0  2015.0  \n",
       "...           ...        ...     ...  \n",
       "82929      1451.0     1616.0  2015.0  \n",
       "82935      1455.0     1712.0  2015.0  \n",
       "82936      2359.0       55.0  2015.0  \n",
       "82937      1842.0     1900.0  2015.0  \n",
       "82952      2040.0     2331.0  2015.0  \n",
       "\n",
       "[9012 rows x 37 columns]"
      ]
     },
     "execution_count": 10,
     "metadata": {},
     "output_type": "execute_result"
    },
    {
     "data": {
      "image/png": "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\n",
      "text/plain": [
       "<Figure size 432x288 with 1 Axes>"
      ]
     },
     "metadata": {
      "needs_background": "light"
     },
     "output_type": "display_data"
    }
   ],
   "source": [
    "ev_data\n",
    "data1=sns.boxplot(y=\"AIR_SYSTEM_DELAY\", data=ev_data)\n",
    "Q1 = ev_data['AIR_SYSTEM_DELAY'].quantile(0.25)\n",
    "Q3 = ev_data['AIR_SYSTEM_DELAY'].quantile(0.75)\n",
    "IQR = Q3 - Q1    #IQR is interquartile range. \n",
    "filter1 = (ev_data['AIR_SYSTEM_DELAY'] >= Q1 - 1.5 * IQR) & (ev_data['AIR_SYSTEM_DELAY'] <= Q3 + 1.5 *IQR)\n",
    "cleaned_data_air_system=ev_data.loc[filter1] \n",
    "cleaned_data_air_system"
   ]
  },
  {
   "cell_type": "code",
   "execution_count": 11,
   "metadata": {},
   "outputs": [],
   "source": [
    "# aas=sns.boxplot(x=\"AIR_SYSTEM_DELAY\", y=\"LATE_AIRCRAFT_DELAY\", data=ev_data)\n",
    "# # sa=sns.boxplot(x=\"AIR_SYSTEM_DELAY\", y=\"LATE_AIRCRAFT_DELAY\", data=cleaned_data_air_system)\n",
    "# print(aas)\n",
    "# # print(sa)"
   ]
  },
  {
   "cell_type": "markdown",
   "metadata": {},
   "source": [
    "#### d) Basic statistics: \n",
    "Compare basic statistical features of arrival delay (median, mean, and mode, standard deviation, variance) in the <b>ev_data</b>, <b>cleaned_data_late_aircraft</b>, and <b>cleaned_data_air_system</b>. \n",
    "\n",
    "Interpret the differences for these statistical values between these three datasets. "
   ]
  },
  {
   "cell_type": "code",
   "execution_count": 12,
   "metadata": {},
   "outputs": [
    {
     "name": "stdout",
     "output_type": "stream",
     "text": [
      "---------- Statistical features of 'SurfaceR' in new_sampled_data ----------\n",
      "\n",
      "Median: 2.7\n",
      "Mean: 2.9855406032482503\n",
      "Mode: 2.0\n",
      "Standard deviation: 0.9298457934665888\n",
      "Variance: 0.8646131996275102\n",
      "\n",
      "---------- Statistical features of 'ARRIVAL_DELAY' in cleaned_data_late_aircraft ----------\n",
      "\n",
      "Median: 2.7\n",
      "Mean: 2.97869569262256\n",
      "Mode: 2.0\n",
      "Standard deviation: 0.9204593675737042\n",
      "Variance: 0.8472454473541835\n",
      "\n",
      "---------- Statistical features of 'ARRIVAL_DELAY' in cleaned_data_air_system ----------\n",
      "\n",
      "Median: 2.7\n",
      "Mean: 2.9766644474034614\n",
      "Mode: 2.0\n",
      "Standard deviation: 0.929026100538909\n",
      "Variance: 0.863089495482531\n",
      "\n"
     ]
    }
   ],
   "source": [
    "ev_data\n",
    "# ev_data.info()\n",
    "# Statistical features of 'ARRIVAL_DELAY' in EV data \n",
    "print('---------- Statistical features of \\'SurfaceR\\' in new_sampled_data ----------\\n')\n",
    "median_newSD = np.median(ev_data[\"ARRIVAL_DELAY\"])\n",
    "mean_newSD = np.mean(ev_data[\"ARRIVAL_DELAY\"])\n",
    "mode_newSD = stat.mode(ev_data[\"ARRIVAL_DELAY\"])\n",
    "std_newSD = np.std(ev_data[\"ARRIVAL_DELAY\"])\n",
    "var_newSD = np.var(ev_data[\"ARRIVAL_DELAY\"])\n",
    "print(f'Median: {median_newSD}')\n",
    "print(f'Mean: {mean_newSD}')\n",
    "print(f'Mode: {mode_newSD}')\n",
    "print(f'Standard deviation: {std_newSD}')\n",
    "print(f'Variance: {var_newSD}\\n')\n",
    "\n",
    "# Statistical features of 'ARRIVAL_DELAY' in cleaned_data_late_aircraft \n",
    "print('---------- Statistical features of \\'ARRIVAL_DELAY\\' in cleaned_data_late_aircraft ----------\\n')\n",
    "median_newSD = np.median(cleaned_data_late_aircraft[\"ARRIVAL_DELAY\"])\n",
    "mean_newSD = np.mean(cleaned_data_late_aircraft[\"ARRIVAL_DELAY\"])\n",
    "mode_newSD = stat.mode(cleaned_data_late_aircraft[\"ARRIVAL_DELAY\"])\n",
    "std_newSD = np.std(cleaned_data_late_aircraft[\"ARRIVAL_DELAY\"])\n",
    "var_newSD = np.var(cleaned_data_late_aircraft[\"ARRIVAL_DELAY\"])\n",
    "\n",
    "print(f'Median: {median_newSD}')\n",
    "print(f'Mean: {mean_newSD}')\n",
    "print(f'Mode: {mode_newSD}')\n",
    "print(f'Standard deviation: {std_newSD}')\n",
    "print(f'Variance: {var_newSD}\\n')\n",
    "\n",
    "\n",
    "# Statistical features of 'ARRIVAL_DELAY' in cleaned_data_air_system \n",
    "print('---------- Statistical features of \\'ARRIVAL_DELAY\\' in cleaned_data_air_system ----------\\n')\n",
    "median_newSD = np.median(cleaned_data_air_system[\"ARRIVAL_DELAY\"])\n",
    "mean_newSD = np.mean(cleaned_data_air_system[\"ARRIVAL_DELAY\"])\n",
    "mode_newSD = stat.mode(cleaned_data_air_system[\"ARRIVAL_DELAY\"])\n",
    "std_newSD = np.std(cleaned_data_air_system[\"ARRIVAL_DELAY\"])\n",
    "var_newSD = np.var(cleaned_data_air_system[\"ARRIVAL_DELAY\"])\n",
    "print(f'Median: {median_newSD}')\n",
    "print(f'Mean: {mean_newSD}')\n",
    "print(f'Mode: {mode_newSD}')\n",
    "print(f'Standard deviation: {std_newSD}')\n",
    "print(f'Variance: {var_newSD}\\n')\n",
    "\n"
   ]
  },
  {
   "cell_type": "markdown",
   "metadata": {},
   "source": [
    "    Your answer:There is very small difference between the Statistical features of 'ARRIVAL_DELAY' in all three data sets  \n",
    "    no diffrence between median and mode vary small diffrence between mean, Standard deviation and variance. \n",
    "    "
   ]
  },
  {
   "cell_type": "markdown",
   "metadata": {},
   "source": [
    "### Part 2: Basic visualization"
   ]
  },
  {
   "cell_type": "markdown",
   "metadata": {},
   "source": [
    "#### a) Mean visualization: \n",
    "Visualize and compare the mean of arrival delay per month in the <b>no_null_data</b>. Just based on this information, if you prefer the minimum delay, which two months would be a good option to book a ticket and which two months are the worst."
   ]
  },
  {
   "cell_type": "code",
   "execution_count": 13,
   "metadata": {},
   "outputs": [
    {
     "name": "stdout",
     "output_type": "stream",
     "text": [
      "    MONTH  ARRIVAL_DELAY\n",
      "0       1      56.606691\n",
      "1       2      59.220741\n",
      "2       3      56.878576\n",
      "3       4      56.086842\n",
      "4       5      60.492663\n",
      "5       6      63.717145\n",
      "6       7      59.431340\n",
      "7       8      59.604944\n",
      "8       9      54.832493\n",
      "9      10      55.045292\n",
      "10     11      57.556430\n",
      "11     12      62.755670\n"
     ]
    },
    {
     "data": {
      "text/plain": [
       "<AxesSubplot:xlabel='MONTH', ylabel='ARRIVAL_DELAY'>"
      ]
     },
     "execution_count": 13,
     "metadata": {},
     "output_type": "execute_result"
    },
    {
     "data": {
      "image/png": "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\n",
      "text/plain": [
       "<Figure size 432x288 with 1 Axes>"
      ]
     },
     "metadata": {
      "needs_background": "light"
     },
     "output_type": "display_data"
    }
   ],
   "source": [
    "# # Your code\n",
    "aa=no_null_data.groupby('MONTH', as_index=False)['ARRIVAL_DELAY'].mean()\n",
    "print(aa)\n",
    "# aa.plot(x=\"MONTH\", y=\"ARRIVAL_DELAY\", kind=\"bar\", rot=5, fontsize=10)\n",
    "# cleaned_data barplot against 'SurfaceR' and 'Surroundings3' with mean estimator\n",
    "sns.barplot(x=\"MONTH\", y=\"ARRIVAL_DELAY\", data=aa, estimator=np.mean)"
   ]
  },
  {
   "cell_type": "markdown",
   "metadata": {},
   "source": [
    "    Your answer:Month 9 and 10 are best for booking the tickets with low arrival delay and on the other hand side, 6 and 12 are worst month with high arrival delay.  \n"
   ]
  },
  {
   "cell_type": "markdown",
   "metadata": {},
   "source": [
    "#### b) Mean visualization:\n",
    "Visualize and compare the mean of weather delay per month in the <b>no_null_data</b>. Which month has the minimum and which month has the maximum average weatherdelay? "
   ]
  },
  {
   "cell_type": "code",
   "execution_count": 14,
   "metadata": {},
   "outputs": [
    {
     "name": "stdout",
     "output_type": "stream",
     "text": [
      "    MONTH  WEATHER_DELAY\n",
      "0       1       2.760206\n",
      "1       2       4.261922\n",
      "2       3       2.411796\n",
      "3       4       2.684861\n",
      "4       5       3.727083\n",
      "5       6       3.312551\n",
      "6       7       2.141607\n",
      "7       8       2.822098\n",
      "8       9       2.290140\n",
      "9      10       1.766766\n",
      "10     11       2.691066\n",
      "11     12       3.362273\n"
     ]
    },
    {
     "data": {
      "text/plain": [
       "<AxesSubplot:xlabel='MONTH'>"
      ]
     },
     "execution_count": 14,
     "metadata": {},
     "output_type": "execute_result"
    },
    {
     "data": {
      "image/png": "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\n",
      "text/plain": [
       "<Figure size 432x288 with 1 Axes>"
      ]
     },
     "metadata": {
      "needs_background": "light"
     },
     "output_type": "display_data"
    }
   ],
   "source": [
    "# Your code\n",
    "bb=no_null_data.groupby('MONTH', as_index=False)['WEATHER_DELAY'].mean()\n",
    "print(bb)\n",
    "bb.plot(x=\"MONTH\", y=\"WEATHER_DELAY\", kind=\"bar\", rot=5, fontsize=10)\n"
   ]
  },
  {
   "cell_type": "markdown",
   "metadata": {},
   "source": [
    "    Your answer: Month 2 have maximum weather delay value on the otherside the month 10 have lowest weather delay value. \n"
   ]
  },
  {
   "cell_type": "markdown",
   "metadata": {},
   "source": [
    "#### c) Interpretation:\n",
    "Based on the visualization of the two previous tasks, can you detect any possible relationship between the arrival delay and weather delay per month? If yes, please explain."
   ]
  },
  {
   "cell_type": "markdown",
   "metadata": {},
   "source": [
    "    Your answer:yes there has a relation between arrival and weather delay in month 10 have a minimum delay on both sides also in weather and also in arrival. On the other side, max delays are varies in two different months.\n",
    "    "
   ]
  },
  {
   "cell_type": "markdown",
   "metadata": {},
   "source": [
    "#### d) Mean visualization: \n",
    "Now visualize the mean of arrival delay per day of the week (per 7 week days) in each month. Based on this information, which combination of days of week and months should be avoided to decrease the possibility of the arrival delay the most? Provide 5 combinations of days of week and months."
   ]
  },
  {
   "cell_type": "code",
   "execution_count": 15,
   "metadata": {
    "scrolled": true
   },
   "outputs": [
    {
     "name": "stdout",
     "output_type": "stream",
     "text": [
      "    MONTH  DAY_OF_WEEK  ARRIVAL_DELAY\n",
      "77     12            1      70.647908\n",
      "35      6            1      69.953106\n",
      "83     12            7      69.318411\n",
      "28      5            1      68.658594\n",
      "75     11            6      67.236833\n",
      "36      6            2      66.973257\n",
      "34      5            7      66.530766\n",
      "37      6            3      65.525702\n",
      "13      2            7      64.837048\n",
      "14      3            1      64.070690\n",
      "78     12            2      63.996626\n",
      "49      8            1      63.488274\n",
      "54      8            6      63.357043\n",
      "52      8            4      63.328815\n",
      "72     11            3      62.922471\n",
      "67     10            5      62.422981\n",
      "47      7            6      62.316259\n",
      "7       2            1      62.218272\n",
      "42      7            1      61.965136\n",
      "6       1            7      61.901203\n",
      "29      5            2      61.741922\n",
      "40      6            6      61.341815\n",
      "21      4            1      61.212876\n",
      "38      6            4      60.909994\n",
      "25      4            5      60.888264\n",
      "44      7            3      60.876072\n",
      "80     12            4      60.856815\n",
      "8       2            2      60.596813\n",
      "30      5            3      60.556990\n",
      "59      9            4      60.541038\n",
      "43      7            2      60.375639\n",
      "41      6            7      59.679752\n",
      "71     11            2      59.621351\n",
      "12      2            6      59.527556\n",
      "79     12            3      59.279755\n",
      "24      4            4      59.173475\n",
      "1       1            2      58.797648\n",
      "50      8            2      58.591766\n",
      "39      6            5      58.473182\n",
      "0       1            1      58.396605\n",
      "33      5            6      58.275277\n",
      "82     12            6      58.250458\n",
      "45      7            4      58.109225\n",
      "20      3            7      58.070027\n",
      "11      2            5      57.783037\n",
      "17      3            4      57.445486\n",
      "68     10            6      57.109880\n",
      "57      9            2      57.105458\n",
      "15      3            2      56.708523\n",
      "60      9            5      56.689738\n",
      "10      2            4      56.501301\n",
      "73     11            4      56.432573\n",
      "46      7            5      56.331703\n",
      "53      8            5      56.298680\n",
      "5       1            6      56.170197\n",
      "55      8            7      56.167076\n",
      "48      7            7      55.919334\n",
      "76     11            7      55.287508\n",
      "3       1            4      55.022426\n",
      "26      4            6      54.956104\n",
      "81     12            5      54.673061\n",
      "51      8            3      54.525629\n",
      "65     10            3      54.451732\n",
      "18      3            5      53.675328\n",
      "32      5            5      53.539989\n",
      "2       1            3      53.348141\n",
      "9       2            3      53.282440\n",
      "74     11            5      53.153278\n",
      "63     10            1      53.131904\n",
      "56      9            1      52.858760\n",
      "19      3            6      52.807519\n",
      "4       1            5      52.387394\n",
      "70     11            1      52.294962\n",
      "16      3            3      52.059222\n",
      "61      9            6      51.894124\n",
      "31      5            4      51.467370\n",
      "69     10            7      51.328489\n",
      "62      9            7      51.285802\n",
      "66     10            4      51.086818\n",
      "23      4            3      50.055030\n",
      "27      4            7      49.739137\n",
      "22      4            2      49.554360\n",
      "58      9            3      48.758383\n",
      "64     10            2      48.525540\n"
     ]
    }
   ],
   "source": [
    "# Your code\n",
    "plt.style.use('ggplot')\n",
    "data_combs = no_null_data.groupby(['MONTH','DAY_OF_WEEK'], as_index=False)['ARRIVAL_DELAY'].mean()\n",
    "pd.set_option('display.max_rows',data_combs.shape[0]+1)\n",
    "data_combs = data_combs.sort_values('ARRIVAL_DELAY', ascending=False)\n",
    "print(data_combs)"
   ]
  },
  {
   "cell_type": "code",
   "execution_count": 16,
   "metadata": {},
   "outputs": [
    {
     "data": {
      "text/plain": [
       "<AxesSubplot:xlabel='DAY_OF_WEEK', ylabel='ARRIVAL_DELAY'>"
      ]
     },
     "execution_count": 16,
     "metadata": {},
     "output_type": "execute_result"
    },
    {
     "data": {
      "image/png": "iVBORw0KGgoAAAANSUhEUgAAAYEAAAEJCAYAAAByupuRAAAAOXRFWHRTb2Z0d2FyZQBNYXRwbG90bGliIHZlcnNpb24zLjMuNCwgaHR0cHM6Ly9tYXRwbG90bGliLm9yZy8QVMy6AAAACXBIWXMAAAsTAAALEwEAmpwYAAAg6ElEQVR4nO3dfVRUBeI+8AcGkXgbBwbFAa1QUUg4VFCa0FiM2fYmuxmV2oaU+ZbuohXm2cA9pmKI4wHxrS3c07Yv7bbN5llbz5nlOCRbLYoGCWKYSi76A2QEUV6cl98f1nydRGcGZu5lvM/nn+neO3PvM/dgz9x3H6vVagUREUmSr9gBiIhIPCwBIiIJYwkQEUkYS4CISMJYAkREEsYSICKSMD+xAwxEc3Oz2BGIiLyKSqXqdzy3BIiIJIwlQEQkYSwBIiIJYwkQEUkYS4CISMJYAkREEsYSICKSMJYAEZGEeeXFYp6yceNGtLW1QalUIjc3V+w4REQexxK4RltbG86dOyd2DCIiwXB3EBGRhLEEiIgkjCVARCRhLAEiIgljCRARSRhLgIhIwlgCREQSxhIgIpIwXixGRCQyMe9WwBIgIhKZmHcruCVK4OzrL7tlPqbWvh9e/59b5jm68HeDnocreO8jkir+7Q+cYCVw6dIl7NixA99//z18fHywePFiqFQqaLVatLa2IiIiAjk5OQgODhYq0i2H9z4iqeLf/sAJVgJlZWVISkrCypUrYTKZ0Nvbi08++QQJCQnIyMiATqeDTqfDvHnzhIpERCR5gpwddPnyZdTX1+Phhx8GAPj5+SEoKAhVVVVQq9UAALVajaqqKiHiEBHRDwTZEmhpaUFoaCi2bduG06dPIyYmBllZWejo6IBCoQAAKBQKdHZ2ChGHiIh+IEgJmM1mnDx5EtnZ2ZgwYQLKysqg0+mc/rxer4derwcAFBQUQKlU2k0/686wbvTTnJ4mk8lsr0IvW+pWr16NlpYWjBw5EuvXrxc7juR4+9++mPkFKYHw8HCEh4djwoQJAIApU6ZAp9NBLpfDaDRCoVDAaDQiNDS0389rNBpoNBrbcFtbmxCxB03onGaz2fbqLevoWt58hsfZs2dx7tw5r1333s7b//aFyK9SqfodL8gxgREjRiA8PBzNzc0AgNraWkRHRyM5ORkGgwEAYDAYkJKSIkQcGqJ+PMPDG/8RE3krwc4Oys7ORnFxMUwmE0aOHIklS5bAarVCq9WivLwcSqUSK1asECoOERFBwBK44447UFBQcN34vLw8oSIMWVm//8It8zF3dgMAznV2u2Weu1+cOuh5kHcQa1fch/951S3z6ey++MNri1vmOfeBrYOeh7e4Ja4YJqLB4cVWA6NoaHTLfHz7+myv7pinceJ4p9/LEriGQgYAPj+8EhHd+lgC11gQ5i92BBJYcXGxW+ZjNBptr+6Y5/Llywc9DyJn8HkCREQSxhIgIpIwlgARkYTxmAANyr5P3XfTjktdJturO+Y786nRg57HUOdbX+SeGfUZba/umKclbuWg50HC4JYAEZGEcUuAiLzebSG+dq/kPJYAEXm9lCeDxI7gtVgCt5KAEPtXEszw4cPtXom8BUvgFiK75ymxI0jWxIkTxY5AXmyUfITdq5BYAkQEpdzf7pWEtXbuC6ItmyVARHjz+XFiRyCR8FA6EZGEsQSIiCSMu4NoyAgOUti9EpHnsQRoyEh/cIHYEYgkh7uDiIgkjCVARCRhLAEiIgljCRARSRhLgIhIwgQ7O2jp0qUICAiAr68vZDIZCgoK0NXVBa1Wi9bWVkRERCAnJwfBwcFCRSIikjxBTxHNz89HaGiobVin0yEhIQEZGRnQ6XTQ6XSYN2+ekJGIiCRN1N1BVVVVUKvVAAC1Wo2qqiox4xARSY6gWwLr1q0DAMyYMQMajQYdHR1QKK5eHapQKNDZ2dnv5/R6PfR6PQCgoKAASqXSbrr7nnLrXj/N6W2cyz9U1753r39ns7d7OMdAefO6B5zPb25o9HCSgXFl/QtWAmvXrkVYWBg6Ojrw9ttvQ6VSOf1ZjUYDjUZjG25ra/NERLfzlpw3wvzicTb7UD2zw5vXPeB8/qF6g5P+8t/o/7mC/Q2FhYUBAORyOVJSUtDY2Ai5XA6j0QgAMBqNdscLiIjI8wQpgZ6eHnR3d9v+u6amBmPHjkVycjIMBgMAwGAwICUlRYg4RET0A0F2B3V0dGDTpk0AALPZjNTUVCQlJWHcuHHQarUoLy+HUqnEihUrhIhDREQ/EKQERo0ahcLCwuvGh4SEIC8vT4gIRETUD4e7g4qLi9HV1SVEFiIiEpjDEvDz80NOTg6++OILIfIQEZGAHO4OWrJkCWpra/Huu++isrISCxYsgFwuFyIbERF5mFPHBBISErBp0yZs2bIFy5YtQ1BQkN307du3eyQcERF5llMlcOXKFXz00UdoaGjA3LlzMWbMGE/nIiIiATgsgbq6OuzcuRMqlQqFhYW2i76IiMj7OSyBoqIiZGVlIS0trd/pZ86cQXR0tNuDERGR5zksgc2bN193IPjixYuorKzE/v370dTUhD/+8Y8eC0hERJ7jsAR+LACz2YxDhw7BYDDg8OHDMJvNmDVrFnJzcz0ekoiIPMNhCZw4cQIGgwGVlZUAgPvvvx+/+c1voNVq8fjjj/N0USIiL+awBFavXo3g4GDMnz8fU6dOhUwmAwD4+Ph4PBwREXmWwyuGn376aQQGBmLnzp0oKSnBwYMHYTabWQJERLcAh1sCmZmZyMzMRF1dHSoqKlBSUgI/Pz/09PSgqakJCQkJQuQkIiIPcPouovHx8YiPj0d2dja++uorVFRUYN26dbjzzjuxYcMGT2YkIiIPcflW0v7+/khLS0NaWhra29tRUVHhiVxERCSAQT1ZLDQ0FPv27XNXFiIiEtigSsBqtaK9vd1dWYiISGCCPWieiIiGHpYAEZGEOTwwXFJScsNrAiwWi9sDERGRcByWQGRk5E2nz549221hiIhIWA5L4JlnnhEiBxERicDhMYFPP/3UbrimpsZu+Pe//717ExERkWAclsDHH39sN6zVau2Gy8vLnV6YxWLBG2+8gYKCAgBAV1cX1q5di+XLl2Pt2rXo6upyel5ERDR4DkvAarUOavq19u7di6ioKNuwTqdDQkICiouLkZCQAJ1O5/S8iIho8ByWgKO7hTp7N9Hz58+juroa6enptnFVVVVQq9UAALVajaqqKqfmRURE7uHwwLDVakVLS4vtF39/w87YvXs35s2bh+7ubtu4jo4OKBQKAIBCoUBnZ2e/n9Xr9dDr9QCAgoICKJVKu+lnnUogvJ/m9DbO5R+qa9+717+z2Yfq9frevO4B5/ObGxo9nGRgXFn/Dkugt7cXy5Ytsxv302FHDh06BLlcjpiYGBw9etSlzwKARqOBRqOxDbe1tbk8DzF4S84bYX7xOJt9qF7t6c3rHnA+v8LDOQaqv/wqlarf9zosgb/85S+DDtTQ0ICDBw/i8OHD6OvrQ3d3N4qLiyGXy2E0GqFQKGA0GhEaGjroZRERkfNcupV0X18fLl26hKCgIPj7+zv9uTlz5mDOnDkAgKNHj2LPnj1Yvnw5PvjgAxgMBmRkZMBgMCAlJcW19ERENChOlcA333yDDz/8ECdPnoTVaoWPjw/uvPNOzJkzZ1BPFsvIyIBWq0V5eTmUSiVWrFgx4HkREZHrHJbAiRMnsGHDBqSnp2Pu3LkICwtDe3s7vvrqK2zcuBFr1qzB+PHjnV7gXXfdhbvuugsAEBISgry8vIGnJyKiQXFYAp9++ilmzZqFzMxM2ziVSoXJkycjNDQUn376KX/BExF5KYcnFxw/ftzuzJxrpaen4/jx424PRUREwnBYApcvX0ZYWFi/08LCwnD58mW3hyIiImEM+jRjZ68YJiKiocfhMYGenh4sXrz4htN7e3vdGoiIiITjsATy8/OFyEFERCJwWALx8fFOz2zDhg148803BxWIiIiE49Zbjxw7dsydsyMiIg8bqvefIiIiAbAEiIgkjCVARCRhbi0BVx41SURE4htUCVgsFrvnDfz85z8fdCAiIhLOoErAbDbj73//u22YJUBE5F14TICISMJYAkREEubwiuFvvvnmhtNMJpNbwxARkbAclsD27dtvOl2pVLotDBERCcthCZSWlgqRg4iIRDDgYwIWiwXV1dXYvHmzO/MQEZGAHG4J/NSpU6dgMBhQWVmJ3t5ePPjgg57IRUREAnCqBC5cuIADBw7AYDDgzJkziIuLQ09PDzZt2oSRI0d6OiMREXmIwxIoKCjA119/jdtvvx1qtRrTpk2DQqHAK6+8guHDhwuRkYiIPMRhCRw9ehSBgYFISkrC3XffDYVC4fJC+vr6kJ+fD5PJBLPZjClTpiAzMxNdXV3QarVobW1FREQEcnJyEBwcPKAvQkRErnNYAr/73e/w5ZdfwmAw4JNPPsEdd9yB1NRUmM1mpx8yP2zYMOTn5yMgIAAmkwl5eXlISkrCf//7XyQkJCAjIwM6nQ46nQ7z5s0b9JciIiLnODw7aPjw4VCr1cjLy0NpaSnuu+8+6PV6dHV1oaSkBNXV1Q4X4uPjg4CAAABX7zf0Y4FUVVVBrVYDANRqNaqqqgb5dYiIyBUOtwTOnDmD6OhoAFcvDHv66afx9NNP4/jx49i/fz+2bt2K999/3+GCLBYLcnNzce7cOcycORMTJkxAR0eHbfeSQqFAZ2dnv5/V6/XQ6/UArh6j+OkFamcdLl0c3n4hnXP5h+ra9+7172z2dg/nGChvXveA8/nNDY0eTjIwrqx/hyXwxhtv2B0UDgkJAQDExsYiNjYW8+fPd2pBvr6+KCwsxKVLl7Bp0yY0NTU5HVKj0UCj0diG29ranP6smLwl540wv3iczT5Ub/7lzesecD6/60dIhdFffpVK1e97HZbAzp07UVlZiYqKCnzwwQdISkrC9OnTcc8990Amk2HYsGEuhQsKCkJ8fDyOHDkCuVwOo9EIhUIBo9GI0NBQl+ZFRESD4/CHREhICB599FGsX78ehYWFGDNmDHbv3o1XXnkF77//PhobHW8OdXZ24tKlSwCunilUW1uLqKgoJCcnw2AwAAAMBgNSUlIG+XWIiMgVLl0xrFKp8Nxzz+G5555DTU0Ndu7ciX379tk9Xaw/RqMRpaWlsFgssFqtmDp1Ku69917ExsZCq9WivLwcSqUSK1asGNSXISIi17h824jjx4+joqICX3zxBQIDAzF79myHn7n99tvxzjvvXDc+JCQEeXl5rkYgIiI3caoEWltbUVFRgYqKCnR0dGDKlCl47bXXEBcX5+l8RETkQQ5LID8/H8ePH8fkyZPxzDPP4L777oO/v78Q2YiIyMMclsDdd9+NX/3qVwgLCxMiDxERCchhCTz11FMArl7sdSO+vkP1bGUiIroZhyXw/PPPO5yJo7ODiIhoaHJYAlu3bhUiBxERicBhCURERNx0uiu3fyAioqHFqVNEL1++jHPnzkGpVNpu7XDq1Cn87W9/w+HDh/Hhhx96NCQREXmGwxKorq7Gli1b0NvbCz8/Pyxbtgx1dXX4/PPPkZ6ejpKSEiFyEhGRBzgsgT//+c/45S9/iQcffBDl5eUoLS3Fvffei5KSEj4FjIjIyzk8t7OlpQUajQb+/v545JFHYDKZsHjxYhYAEdEtwGEJWK3W/3uzry8CAgL4gHkioluEw91Bvb29yM/Ptw339PTYDQPAb3/7W/cnIyIij3NYAosWLbIbfuihhzwWhoiIhOWwBKZPn37T6SaTyV1ZiIhIYAO+6c+VK1ewd+9eLFu2zJ15iIhIQA63BJqbm7F9+3acPn0ao0ePxtKlS9Hc3IyysjKEhYXhhRdeECInERF5gMMSKCsrw+jRo/GLX/wCBw4cQGFhIfz9/bF06VIkJiYKkZGIiDzEYQl899132LFjB4YNG4a4uDi8+OKL2LZtG8LDw4XIR0REHuTwmIDJZMKwYcMAAAEBAQgMDGQBEBHdIhxuCVy5csXueQF9fX3XPT/g2WefdX8yIiLyOIclkJqaivPnz9uGp02bZjd8syeOERHR0OawBJYsWdLv+NOnT8NgMKCystLtoYiISBhOPU/gR52dnThw4AAMBgNOnTqFuLg4ZGVlOfxcW1sbSktLceHCBfj4+ECj0eCxxx5DV1cXtFotWltbERERgZycHN6YjohIQA5LwGQy4eDBg9i/fz++/vprREZGYtq0aWhpaUFOTg7kcrnDhchkMrzwwguIiYlBd3c3Vq1ahcTEROzfvx8JCQnIyMiATqeDTqfDvHnz3PLFiIjIMYdnBy1YsADvvvsuVCoV1q1bB61Wi9mzZ9vOGHKGQqFATEwMAOC2225DVFQU2tvbUVVVBbVaDQBQq9Woqqoa4NcgIqKBcLglcPvtt+PYsWNobGzE6NGjMXLkyEHtsmlpacHJkycxfvx4dHR0QKFQALhaFJ2dnf1+Rq/XQ6/XAwAKCgqgVCrtpp8dcBrP+mlOb+Nc/qG69r17/Tubvd3DOQbKm9c94Hx+c0Ojh5MMjCvr32EJrFmzBq2trTAYDNizZw/KysqQmJiI3t5emM1ml4L19PSgqKgIWVlZCAwMdPpzGo0GGo3GNtzW1ubScsXiLTlvhPnF42z2Ad/8y8O8ed0DzudXeDjHQPWXX6VS9ftep/6GIiIiMHv2bBQXFyMvLw8KhQI+Pj54/fXX8Yc//MGpUCaTCUVFRUhLS8P9998PAJDL5TAajQAAo9Foe4g9EREJw+UfEpMmTcLChQuxa9cuzJ8/H01NTQ4/Y7VasWPHDkRFReGJJ56wjU9OTobBYAAAGAwGpKSkuBqHiIgGwaVTRK/l7++P1NRUpKamOnxvQ0MDKioqMHbsWLz++usAgOeffx4ZGRnQarUoLy+HUqnEihUrBhqHiIgGYMAl4IpJkybho48+6ndaXl6eEBGIiKgfQ/W4EhERCYAlQEQkYSwBIiIJYwkQEUkYS4CISMJYAkREEsYSICKSMJYAEZGEsQSIiCSMJUBEJGEsASIiCWMJEBFJGEuAiEjCWAJERBLGEiAikjCWABGRhLEEiIgkjCVARCRhLAEiIgljCRARSRhLgIhIwlgCREQSxhIgIpIwPyEWsm3bNlRXV0Mul6OoqAgA0NXVBa1Wi9bWVkRERCAnJwfBwcFCxCEioh8IsiUwffp0rF692m6cTqdDQkICiouLkZCQAJ1OJ0QUIiK6hiAlEB8ff92v/KqqKqjVagCAWq1GVVWVEFGIiOgaguwO6k9HRwcUCgUAQKFQoLOz84bv1ev10Ov1AICCggIolUq76Wc9F3NQfprT2ziXf6iufe9e/85mb/dwjoHy5nUPOJ/f3NDo4SQD48r6F60EXKHRaKDRaGzDbW1tIqZxnrfkvBHmF4+z2YfqmR3evO4B5/MrPJxjoPrLr1Kp+n2vaH9DcrkcRqMRAGA0GhEaGipWFCIiyRKtBJKTk2EwGAAABoMBKSkpYkUhIpIsQXYHbdmyBXV1dbh48SIWLVqEzMxMZGRkQKvVory8HEqlEitWrBAiChERXUOQEvj1r3/d7/i8vDwhFk9ERDcwVI8rERGRAFgCREQSxhIgIpIwlgARkYSxBIiIJIwlQEQkYSwBIiIJYwkQEUkYS4CISMJYAkREEsYSICKSMJYAEZGEsQSIiCSMJUBEJGEsASIiCWMJEBFJGEuAiEjCWAJERBLGEiAikjCWABGRhLEEiIgkjCVARCRhLAEiIgnzEzvAkSNHUFZWBovFgvT0dGRkZIgdiYhIMkTdErBYLHjvvfewevVqaLVaVFZW4syZM2JGIiKSFFFLoLGxEZGRkRg1ahT8/PzwwAMPoKqqSsxIRESS4mO1Wq1iLfzLL7/EkSNHsGjRIgBARUUFvv32W7z00kt279Pr9dDr9QCAgoICwXMSEd2qRN0S6K9/fHx8rhun0WhQUFAgSAGsWrXK48vwJOYXjzdnB5hfbGLlF7UEwsPDcf78edvw+fPnoVAoRExERCQtopbAuHHjcPbsWbS0tMBkMuE///kPkpOTxYxERCQpop4iKpPJkJ2djXXr1sFiseChhx7CmDFjxIwEjUYj6vIHi/nF483ZAeYXm1j5RT0wTERE4uIVw0REEsYSICKSMNFvGzFUbNu2DdXV1ZDL5SgqKhI7jkva2tpQWlqKCxcuwMfHBxqNBo899pjYsZzW19eH/Px8mEwmmM1mTJkyBZmZmWLHcpnFYsGqVasQFhbmdacrLl26FAEBAfD19YVMJvO663EuXbqEHTt24Pvvv4ePjw8WL16M2NhYsWM51NzcDK1WaxtuaWlBZmYmHn/8ccEysAR+MH36dDz66KMoLS0VO4rLZDIZXnjhBcTExKC7uxurVq1CYmIioqOjxY7mlGHDhiE/Px8BAQEwmUzIy8tDUlKSV/wjvtbevXsRFRWF7u5usaMMSH5+PkJDQ8WOMSBlZWVISkrCypUrYTKZ0NvbK3Ykp6hUKhQWFgK4+iNi4cKFuO+++wTNwN1BP4iPj0dwcLDYMQZEoVAgJiYGAHDbbbchKioK7e3tIqdyno+PDwICAgAAZrMZZrO534sGh7Lz58+juroa6enpYkeRnMuXL6O+vh4PP/wwAMDPzw9BQUEip3JdbW0tIiMjERERIehyuSVwi2lpacHJkycxfvx4saO4xGKxIDc3F+fOncPMmTMxYcIEsSO5ZPfu3Zg3b57XbgUAwLp16wAAM2bM8KrTLVtaWhAaGopt27bh9OnTiImJQVZWlu2HhbeorKzEtGnTBF8utwRuIT09PSgqKkJWVhYCAwPFjuMSX19fFBYWYseOHThx4gSamprEjuS0Q4cOQS6X27bGvNHatWuxceNGrF69Gvv27UNdXZ3YkZxmNptx8uRJPPLII3jnnXcwfPhw6HQ6sWO5xGQy4dChQ5gyZYrgy2YJ3CJMJhOKioqQlpaG+++/X+w4AxYUFIT4+HgcOXJE7ChOa2howMGDB7F06VJs2bIF33zzDYqLi8WO5ZKwsDAAgFwuR0pKChobG0VO5Lzw8HCEh4fbth6nTJmCkydPipzKNYcPH8add96JESNGCL5s7g66BVitVuzYsQNRUVF44oknxI7jss7OTshkMgQFBaGvrw+1tbWYNWuW2LGcNmfOHMyZMwcAcPToUezZswfLly8XOZXzenp6YLVacdttt6Gnpwc1NTWYPXu22LGcNmLECISHh6O5uRkqlQq1tbVec1LEj8TaFQSwBGy2bNmCuro6XLx4EYsWLUJmZqbtQNNQ19DQgIqKCowdOxavv/46AOD555/HPffcI3Iy5xiNRpSWlsJiscBqtWLq1Km49957xY4lGR0dHdi0aROAq7tWUlNTkZSUJG4oF2VnZ6O4uBgmkwkjR47EkiVLxI7ktN7eXtTU1OCVV14RZfm8bQQRkYTxmAARkYSxBIiIJIwlQEQkYSwBIiIJYwkQEUkYS4CISMJYAkREEsaLxWjIW7p0KS5cuACZTAZfX19ER0fjwQcfhEajga/v//2OWbNmDU6fPo1du3Zh2LBhqKmpQUlJCYqKimy3SL5y5QreeOMNPPbYY5gxY8YNl3nlyhX89a9/xeeff47Ozk6Eh4dDo9HgySeftN3hdM2aNfj222/tMrz11ls3vAX2rl274Ovri5dffhnA1Vt9zJ8/H2q1+rpxb731FkaMGIFXX30Vw4cPt5vP4sWL8cADD6C0tBQHDhyAn9///TOOjIxEYWEhWlpa8Oqrr+JPf/oTZDIZrFYrysrKUFNTg7y8PNttIohYAuQVcnNzkZiYiMuXL6Ourg5lZWVobGy0XRna0tKC+vp6BAYG4uDBg5g6dSoSExNxzz33YPfu3bbbOHz88ccYMWKEw7tkbt68GRcuXMCbb76JqKgonDhxAlu3bkVbWxuys7Nt78vOznb69tFxcXH45JNPbMPfffcdlEol6uvr7cYBQExMjO124Lt374ZMJut3nrNmzcJzzz130+VarVbs2rULx48fx5o1a0S5Pw0NXdwdRF4lMDAQycnJyMnJgcFgsN1ttKKiArGxsZg+fToMBoPt/S+++CLq6upQXV2NpqYm7Nu3DwsXLrzp8wpqa2tRU1ODlStXYuzYsZDJZIiNjcWyZcuwb98+nDt3bkDZ4+Pj8b///Q+dnZ0AgPr6ejzwwAPo6emxGxcbG2v3634wLBYLSktL8d1337EAqF8sAfJK48ePR1hYGI4dOwYAMBgMSE1NRVpaGr7++mtcuHABwNXSePnll/Huu+9i+/btmD17NiIjI28675qaGowfPx5KpdJu/IQJExAeHo7a2toBZQ4PD4dSqbRlrq+vR1xcHCZOnHjdOHcpLi5Gc3Mz8vLyEBIS4rb50q2Du4PIa4WFhaGrqwvHjh1DW1sbpk6ditDQUIwaNQoHDhyw3VE1OTkZFRUVaGlpwc9+9jOH87148SIUCkW/0xQKBS5evGgbLisrwwcffAAAGDVqFDZu3HjTecfHx6Ourg7JyclobGzEhAkT0NzcbBvX0NCAp556yu4zL730kt3w22+/bbtL5p49e/Cvf/3LNi05ORmvvvqqbfjHO4J645O2SBgsAfJa7e3tCA4Oxv79+5GYmGg7+JuamgqDwWB3W+3o6Gj4+fnZHcS9kZCQEJw9e7bfaUaj0e4X9fz58116pGRcXBz27duHpqYmjBo1CsOHD8ekSZPw73//G01NTejr67vuqXDvvffeDY8JPPnkkzc9JpCbm4uNGzciKCjIa+6KS8JiCZBXamxsRHt7OyZNmoQPP/wQFosFCxYsAHD1DJtLly7h1KlTuOOOO1yed0JCAvbu3Yu2tja7XUKNjY04f/48Jk+ePODc8fHx2LVrF6qrqzFp0iQAwJgxY2zPKB43bhz8/f0HPP+fmjhxInJzc1FQUAB/f3+kpqa6bd50a2AJkFf58aHiu3fvRlpaGpqamuDr64uioiK7g6larRYVFRUDKoHExERMnjwZRUVFWLJkCaKiotDY2IitW7dixowZGD169IDzR0ZGQi6X47PPPsPChQsBAD4+Phg/fjw+++wzj/xaj4+Px2uvvYbCwkL4+fmJ8ghDGrpYAuQVNm7cCJlMBh8fH0RHR+Pxxx/HI488gg0bNuChhx667iDuzJkzUVZWhrlz595wV8rNrFy5Eh999BHWr1+Pzs5OhIWFIT09/br99QMRFxeHL774AhMnTrQbV11d3e9B4aysLLvhZ5991rar6x//+Af++c9/2qb5+/vjvffeu24eiYmJyMnJgVarhZ+fH5KTkwf9PejWwIfKEBFJGE8RJSKSMO4OIkn6/PPPsWvXruvGR0REYPPmzQOeb319PdavX9/vtB9PJSUaSrg7iIhIwrg7iIhIwlgCREQSxhIgIpIwlgARkYT9f8A5Jiy7GjkRAAAAAElFTkSuQmCC\n",
      "text/plain": [
       "<Figure size 432x288 with 1 Axes>"
      ]
     },
     "metadata": {},
     "output_type": "display_data"
    }
   ],
   "source": [
    "data_combs[['MONTH','DAY_OF_WEEK','ARRIVAL_DELAY',]].groupby(['MONTH', 'DAY_OF_WEEK']).agg(['mean',]).sort_values(by=('ARRIVAL_DELAY','mean'), ascending=False)\n",
    "sns.barplot(x=\"DAY_OF_WEEK\", y=\"ARRIVAL_DELAY\", data=data_combs)"
   ]
  },
  {
   "cell_type": "code",
   "execution_count": 17,
   "metadata": {},
   "outputs": [
    {
     "data": {
      "text/plain": [
       "<AxesSubplot:xlabel='ARRIVAL_DELAY', ylabel='DAY_OF_WEEK'>"
      ]
     },
     "execution_count": 17,
     "metadata": {},
     "output_type": "execute_result"
    },
    {
     "data": {
      "image/png": "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\n",
      "text/plain": [
       "<Figure size 432x288 with 1 Axes>"
      ]
     },
     "metadata": {},
     "output_type": "display_data"
    }
   ],
   "source": [
    "data_combs[['MONTH','DAY_OF_WEEK','ARRIVAL_DELAY',]].groupby(['MONTH', 'DAY_OF_WEEK']).agg(['mean',]).sort_values(by=('ARRIVAL_DELAY','mean'), ascending=False)\n",
    "sns.barplot(x=\"ARRIVAL_DELAY\", y=\"DAY_OF_WEEK\", data=data_combs)"
   ]
  },
  {
   "cell_type": "markdown",
   "metadata": {},
   "source": [
    "    Your answer:Just like we saw in the results. we have different kinds of values the highest value is 70.  These highest values appear against the 12 months and 1 day of the week. So we are avoide these month and week days for reduce the arrival delay. Also have others combinations (6,1),(12,7),(5,1)(11,6),(6,2)(5,7) these are a combination with highest values.\n",
    "    (12,1) first one is month in this combination and the second one is week day. \n"
   ]
  },
  {
   "cell_type": "markdown",
   "metadata": {},
   "source": [
    "#### e) Distribution:\n",
    " In <b>no_null_data</b>, plot the distribution of weather delay for those flights with at least 3 hours of weather delay."
   ]
  },
  {
   "cell_type": "code",
   "execution_count": 18,
   "metadata": {},
   "outputs": [
    {
     "data": {
      "text/plain": [
       "<seaborn.axisgrid.FacetGrid at 0x1b6c8d14f40>"
      ]
     },
     "execution_count": 18,
     "metadata": {},
     "output_type": "execute_result"
    },
    {
     "data": {
      "image/png": "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\n",
      "text/plain": [
       "<Figure size 360x360 with 1 Axes>"
      ]
     },
     "metadata": {},
     "output_type": "display_data"
    }
   ],
   "source": [
    "no_null_data\n",
    "import plotly.express as px\n",
    "a = no_null_data[(no_null_data['WEATHER_DELAY'] <= 3)]\n",
    "# sns.displot(a, x=\"WEATHER_DELAY\")\n",
    "sns.displot(data=a, x='WEATHER_DELAY', kde=False)"
   ]
  },
  {
   "cell_type": "markdown",
   "metadata": {},
   "source": [
    "#### f) Monthly distribution:\n",
    "Plot the monthly distribution of weather delay in one figure where weather delay is more than 3 hours in <b>no_null_data</b>."
   ]
  },
  {
   "cell_type": "code",
   "execution_count": 19,
   "metadata": {},
   "outputs": [
    {
     "data": {
      "text/plain": [
       "<seaborn.axisgrid.FacetGrid at 0x1b690e1bd00>"
      ]
     },
     "execution_count": 19,
     "metadata": {},
     "output_type": "execute_result"
    },
    {
     "data": {
      "image/png": "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\n",
      "text/plain": [
       "<Figure size 360x360 with 1 Axes>"
      ]
     },
     "metadata": {},
     "output_type": "display_data"
    }
   ],
   "source": [
    "f = no_null_data[(no_null_data.WEATHER_DELAY >= 3)]\n",
    "# cf=f.plot(x=\"WEATHER_DELAY\", y=\"MONTH\", kind=\"bar\", rot=10, fontsize=10)\n",
    "sns.displot(f, x=\"WEATHER_DELAY\", y=\"MONTH\")"
   ]
  },
  {
   "cell_type": "markdown",
   "metadata": {},
   "source": [
    "#### g) Joint distribution:\n",
    "Explore the distribution of weather delay and arrival delay together in the <b>no_null_data</b> for airlines 'EV' and 'VX', considering only the flights that the arrival delay is more than 6 hours. Can you find any similarities or differences among them? Please explain."
   ]
  },
  {
   "cell_type": "code",
   "execution_count": 20,
   "metadata": {},
   "outputs": [
    {
     "data": {
      "text/plain": [
       "<seaborn.axisgrid.JointGrid at 0x1b6c8d14910>"
      ]
     },
     "execution_count": 20,
     "metadata": {},
     "output_type": "execute_result"
    },
    {
     "data": {
      "image/png": "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\n",
      "text/plain": [
       "<Figure size 432x432 with 3 Axes>"
      ]
     },
     "metadata": {},
     "output_type": "display_data"
    }
   ],
   "source": [
    "# Your code\n",
    "data1=no_null_data[no_null_data.AIRLINE == 'EV']\n",
    "data2=no_null_data[no_null_data.AIRLINE == 'VX']\n",
    "evdata=pd.concat([data1, data2], ignore_index=True, sort=False)\n",
    "dd=evdata[(evdata['ARRIVAL_DELAY'] >= 6)]\n",
    "sns.jointplot(data=dd, x=\"ARRIVAL_DELAY\", y=\"WEATHER_DELAY\")"
   ]
  },
  {
   "cell_type": "markdown",
   "metadata": {},
   "source": [
    "       Your answer: Positive corelation and have some outlier \n"
   ]
  },
  {
   "cell_type": "markdown",
   "metadata": {},
   "source": [
    "## Question 2 - Decision Trees (10 points):"
   ]
  },
  {
   "cell_type": "markdown",
   "metadata": {},
   "source": [
    "### Setting of this Question:\n",
    "We want to buy a ticket from 'UA' airline. As we are not a big fan of flights that have a long delay, we have decided to use a decision tree to find the best time to buy the ticket. Our plan is to use a decision tree to predict the arrival delay. But first, we need to preprocess the data. Please do the following tasks.  "
   ]
  },
  {
   "cell_type": "markdown",
   "metadata": {},
   "source": [
    "#### a) Data preprocessing: \n",
    "Use <b>no_null_data</b> for this task and filter it such that the resulting dataset contains only the flights from 'UA' airline that has some (non zero) arrival delay. \n",
    "\n",
    "First, discretizing the arrival delay as follows:\n",
    " - if the delay is at most 45 minutes, the value of the new attribute should be 'acceptable_delay',\n",
    " - else, the value of the new attribute should be 'unacceptable_delay',\n",
    " \n",
    "Let's call this new categorical feature 'DELAY'.\n",
    "\n",
    "Second, discretize the distance into two equal-width bins and name them 'short' and 'long'. Let's call this new feature 'DISTANCE_CATEGORY'."
   ]
  },
  {
   "cell_type": "code",
   "execution_count": 21,
   "metadata": {},
   "outputs": [
    {
     "data": {
      "text/html": [
       "<div>\n",
       "<style scoped>\n",
       "    .dataframe tbody tr th:only-of-type {\n",
       "        vertical-align: middle;\n",
       "    }\n",
       "\n",
       "    .dataframe tbody tr th {\n",
       "        vertical-align: top;\n",
       "    }\n",
       "\n",
       "    .dataframe thead th {\n",
       "        text-align: right;\n",
       "    }\n",
       "</style>\n",
       "<table border=\"1\" class=\"dataframe\">\n",
       "  <thead>\n",
       "    <tr style=\"text-align: right;\">\n",
       "      <th></th>\n",
       "      <th>Unnamed: 0</th>\n",
       "      <th>Unnamed: 0.1</th>\n",
       "      <th>YEAR</th>\n",
       "      <th>MONTH</th>\n",
       "      <th>DAY</th>\n",
       "      <th>DAY_OF_WEEK</th>\n",
       "      <th>AIRLINE</th>\n",
       "      <th>FLIGHT_NUMBER</th>\n",
       "      <th>TAIL_NUMBER</th>\n",
       "      <th>ORIGIN_AIRPORT</th>\n",
       "      <th>...</th>\n",
       "      <th>AIR_SYSTEM_DELAY</th>\n",
       "      <th>SECURITY_DELAY</th>\n",
       "      <th>AIRLINE_DELAY</th>\n",
       "      <th>LATE_AIRCRAFT_DELAY</th>\n",
       "      <th>WEATHER_DELAY</th>\n",
       "      <th>DAY_YEARLY</th>\n",
       "      <th>WEEK</th>\n",
       "      <th>SCHEDULED_DEPARTURE_CATEGORY</th>\n",
       "      <th>DELAY</th>\n",
       "      <th>DISTANCE_CATEGORY</th>\n",
       "    </tr>\n",
       "  </thead>\n",
       "  <tbody>\n",
       "    <tr>\n",
       "      <th>174378</th>\n",
       "      <td>174378</td>\n",
       "      <td>667167</td>\n",
       "      <td>2015</td>\n",
       "      <td>7</td>\n",
       "      <td>6</td>\n",
       "      <td>1</td>\n",
       "      <td>UA</td>\n",
       "      <td>1568</td>\n",
       "      <td>N68842</td>\n",
       "      <td>DEN</td>\n",
       "      <td>...</td>\n",
       "      <td>0.0</td>\n",
       "      <td>0.0</td>\n",
       "      <td>12.0</td>\n",
       "      <td>219.0</td>\n",
       "      <td>0.0</td>\n",
       "      <td>187</td>\n",
       "      <td>26</td>\n",
       "      <td>Afternoon</td>\n",
       "      <td>unacceptable_delay</td>\n",
       "      <td>long</td>\n",
       "    </tr>\n",
       "    <tr>\n",
       "      <th>610587</th>\n",
       "      <td>610587</td>\n",
       "      <td>531245</td>\n",
       "      <td>2015</td>\n",
       "      <td>6</td>\n",
       "      <td>18</td>\n",
       "      <td>4</td>\n",
       "      <td>UA</td>\n",
       "      <td>207</td>\n",
       "      <td>N414UA</td>\n",
       "      <td>LAX</td>\n",
       "      <td>...</td>\n",
       "      <td>0.0</td>\n",
       "      <td>0.0</td>\n",
       "      <td>5.0</td>\n",
       "      <td>21.0</td>\n",
       "      <td>0.0</td>\n",
       "      <td>169</td>\n",
       "      <td>24</td>\n",
       "      <td>Evening</td>\n",
       "      <td>acceptable_delay</td>\n",
       "      <td>long</td>\n",
       "    </tr>\n",
       "    <tr>\n",
       "      <th>627123</th>\n",
       "      <td>627123</td>\n",
       "      <td>454061</td>\n",
       "      <td>2015</td>\n",
       "      <td>1</td>\n",
       "      <td>15</td>\n",
       "      <td>4</td>\n",
       "      <td>UA</td>\n",
       "      <td>201</td>\n",
       "      <td>N212UA</td>\n",
       "      <td>HNL</td>\n",
       "      <td>...</td>\n",
       "      <td>0.0</td>\n",
       "      <td>0.0</td>\n",
       "      <td>33.0</td>\n",
       "      <td>0.0</td>\n",
       "      <td>0.0</td>\n",
       "      <td>15</td>\n",
       "      <td>2</td>\n",
       "      <td>Afternoon</td>\n",
       "      <td>acceptable_delay</td>\n",
       "      <td>long</td>\n",
       "    </tr>\n",
       "    <tr>\n",
       "      <th>981</th>\n",
       "      <td>981</td>\n",
       "      <td>309077</td>\n",
       "      <td>2015</td>\n",
       "      <td>6</td>\n",
       "      <td>10</td>\n",
       "      <td>3</td>\n",
       "      <td>UA</td>\n",
       "      <td>220</td>\n",
       "      <td>N487UA</td>\n",
       "      <td>PIT</td>\n",
       "      <td>...</td>\n",
       "      <td>17.0</td>\n",
       "      <td>0.0</td>\n",
       "      <td>12.0</td>\n",
       "      <td>2.0</td>\n",
       "      <td>0.0</td>\n",
       "      <td>161</td>\n",
       "      <td>23</td>\n",
       "      <td>Afternoon</td>\n",
       "      <td>acceptable_delay</td>\n",
       "      <td>short</td>\n",
       "    </tr>\n",
       "    <tr>\n",
       "      <th>163123</th>\n",
       "      <td>163123</td>\n",
       "      <td>706375</td>\n",
       "      <td>2015</td>\n",
       "      <td>12</td>\n",
       "      <td>22</td>\n",
       "      <td>2</td>\n",
       "      <td>UA</td>\n",
       "      <td>1704</td>\n",
       "      <td>N67812</td>\n",
       "      <td>EWR</td>\n",
       "      <td>...</td>\n",
       "      <td>0.0</td>\n",
       "      <td>0.0</td>\n",
       "      <td>0.0</td>\n",
       "      <td>63.0</td>\n",
       "      <td>17.0</td>\n",
       "      <td>356</td>\n",
       "      <td>50</td>\n",
       "      <td>Afternoon</td>\n",
       "      <td>unacceptable_delay</td>\n",
       "      <td>long</td>\n",
       "    </tr>\n",
       "    <tr>\n",
       "      <th>...</th>\n",
       "      <td>...</td>\n",
       "      <td>...</td>\n",
       "      <td>...</td>\n",
       "      <td>...</td>\n",
       "      <td>...</td>\n",
       "      <td>...</td>\n",
       "      <td>...</td>\n",
       "      <td>...</td>\n",
       "      <td>...</td>\n",
       "      <td>...</td>\n",
       "      <td>...</td>\n",
       "      <td>...</td>\n",
       "      <td>...</td>\n",
       "      <td>...</td>\n",
       "      <td>...</td>\n",
       "      <td>...</td>\n",
       "      <td>...</td>\n",
       "      <td>...</td>\n",
       "      <td>...</td>\n",
       "      <td>...</td>\n",
       "      <td>...</td>\n",
       "    </tr>\n",
       "    <tr>\n",
       "      <th>261725</th>\n",
       "      <td>261725</td>\n",
       "      <td>534557</td>\n",
       "      <td>2015</td>\n",
       "      <td>8</td>\n",
       "      <td>31</td>\n",
       "      <td>1</td>\n",
       "      <td>UA</td>\n",
       "      <td>1968</td>\n",
       "      <td>N68821</td>\n",
       "      <td>SAN</td>\n",
       "      <td>...</td>\n",
       "      <td>0.0</td>\n",
       "      <td>0.0</td>\n",
       "      <td>6.0</td>\n",
       "      <td>41.0</td>\n",
       "      <td>0.0</td>\n",
       "      <td>243</td>\n",
       "      <td>34</td>\n",
       "      <td>Evening</td>\n",
       "      <td>unacceptable_delay</td>\n",
       "      <td>long</td>\n",
       "    </tr>\n",
       "    <tr>\n",
       "      <th>769466</th>\n",
       "      <td>769466</td>\n",
       "      <td>712342</td>\n",
       "      <td>2015</td>\n",
       "      <td>2</td>\n",
       "      <td>2</td>\n",
       "      <td>1</td>\n",
       "      <td>UA</td>\n",
       "      <td>1252</td>\n",
       "      <td>N66837</td>\n",
       "      <td>PDX</td>\n",
       "      <td>...</td>\n",
       "      <td>28.0</td>\n",
       "      <td>0.0</td>\n",
       "      <td>0.0</td>\n",
       "      <td>0.0</td>\n",
       "      <td>0.0</td>\n",
       "      <td>33</td>\n",
       "      <td>4</td>\n",
       "      <td>Morning</td>\n",
       "      <td>acceptable_delay</td>\n",
       "      <td>long</td>\n",
       "    </tr>\n",
       "    <tr>\n",
       "      <th>938071</th>\n",
       "      <td>938071</td>\n",
       "      <td>733192</td>\n",
       "      <td>2015</td>\n",
       "      <td>2</td>\n",
       "      <td>26</td>\n",
       "      <td>4</td>\n",
       "      <td>UA</td>\n",
       "      <td>712</td>\n",
       "      <td>N455UA</td>\n",
       "      <td>DTW</td>\n",
       "      <td>...</td>\n",
       "      <td>0.0</td>\n",
       "      <td>0.0</td>\n",
       "      <td>153.0</td>\n",
       "      <td>20.0</td>\n",
       "      <td>0.0</td>\n",
       "      <td>57</td>\n",
       "      <td>8</td>\n",
       "      <td>Evening</td>\n",
       "      <td>unacceptable_delay</td>\n",
       "      <td>long</td>\n",
       "    </tr>\n",
       "    <tr>\n",
       "      <th>479019</th>\n",
       "      <td>479019</td>\n",
       "      <td>260975</td>\n",
       "      <td>2015</td>\n",
       "      <td>11</td>\n",
       "      <td>17</td>\n",
       "      <td>2</td>\n",
       "      <td>UA</td>\n",
       "      <td>714</td>\n",
       "      <td>N33266</td>\n",
       "      <td>PDX</td>\n",
       "      <td>...</td>\n",
       "      <td>171.0</td>\n",
       "      <td>0.0</td>\n",
       "      <td>0.0</td>\n",
       "      <td>0.0</td>\n",
       "      <td>0.0</td>\n",
       "      <td>321</td>\n",
       "      <td>45</td>\n",
       "      <td>Morning</td>\n",
       "      <td>unacceptable_delay</td>\n",
       "      <td>short</td>\n",
       "    </tr>\n",
       "    <tr>\n",
       "      <th>95753</th>\n",
       "      <td>95753</td>\n",
       "      <td>436653</td>\n",
       "      <td>2015</td>\n",
       "      <td>1</td>\n",
       "      <td>8</td>\n",
       "      <td>4</td>\n",
       "      <td>UA</td>\n",
       "      <td>435</td>\n",
       "      <td>N403UA</td>\n",
       "      <td>LAX</td>\n",
       "      <td>...</td>\n",
       "      <td>39.0</td>\n",
       "      <td>0.0</td>\n",
       "      <td>0.0</td>\n",
       "      <td>0.0</td>\n",
       "      <td>0.0</td>\n",
       "      <td>8</td>\n",
       "      <td>1</td>\n",
       "      <td>Afternoon</td>\n",
       "      <td>acceptable_delay</td>\n",
       "      <td>long</td>\n",
       "    </tr>\n",
       "  </tbody>\n",
       "</table>\n",
       "<p>79552 rows × 38 columns</p>\n",
       "</div>"
      ],
      "text/plain": [
       "        Unnamed: 0  Unnamed: 0.1  YEAR  MONTH  DAY  DAY_OF_WEEK AIRLINE  \\\n",
       "174378      174378        667167  2015      7    6            1      UA   \n",
       "610587      610587        531245  2015      6   18            4      UA   \n",
       "627123      627123        454061  2015      1   15            4      UA   \n",
       "981            981        309077  2015      6   10            3      UA   \n",
       "163123      163123        706375  2015     12   22            2      UA   \n",
       "...            ...           ...   ...    ...  ...          ...     ...   \n",
       "261725      261725        534557  2015      8   31            1      UA   \n",
       "769466      769466        712342  2015      2    2            1      UA   \n",
       "938071      938071        733192  2015      2   26            4      UA   \n",
       "479019      479019        260975  2015     11   17            2      UA   \n",
       "95753        95753        436653  2015      1    8            4      UA   \n",
       "\n",
       "        FLIGHT_NUMBER TAIL_NUMBER ORIGIN_AIRPORT  ... AIR_SYSTEM_DELAY  \\\n",
       "174378           1568      N68842            DEN  ...              0.0   \n",
       "610587            207      N414UA            LAX  ...              0.0   \n",
       "627123            201      N212UA            HNL  ...              0.0   \n",
       "981               220      N487UA            PIT  ...             17.0   \n",
       "163123           1704      N67812            EWR  ...              0.0   \n",
       "...               ...         ...            ...  ...              ...   \n",
       "261725           1968      N68821            SAN  ...              0.0   \n",
       "769466           1252      N66837            PDX  ...             28.0   \n",
       "938071            712      N455UA            DTW  ...              0.0   \n",
       "479019            714      N33266            PDX  ...            171.0   \n",
       "95753             435      N403UA            LAX  ...             39.0   \n",
       "\n",
       "        SECURITY_DELAY  AIRLINE_DELAY  LATE_AIRCRAFT_DELAY  WEATHER_DELAY  \\\n",
       "174378             0.0           12.0                219.0            0.0   \n",
       "610587             0.0            5.0                 21.0            0.0   \n",
       "627123             0.0           33.0                  0.0            0.0   \n",
       "981                0.0           12.0                  2.0            0.0   \n",
       "163123             0.0            0.0                 63.0           17.0   \n",
       "...                ...            ...                  ...            ...   \n",
       "261725             0.0            6.0                 41.0            0.0   \n",
       "769466             0.0            0.0                  0.0            0.0   \n",
       "938071             0.0          153.0                 20.0            0.0   \n",
       "479019             0.0            0.0                  0.0            0.0   \n",
       "95753              0.0            0.0                  0.0            0.0   \n",
       "\n",
       "        DAY_YEARLY  WEEK  SCHEDULED_DEPARTURE_CATEGORY               DELAY  \\\n",
       "174378         187    26                     Afternoon  unacceptable_delay   \n",
       "610587         169    24                       Evening    acceptable_delay   \n",
       "627123          15     2                     Afternoon    acceptable_delay   \n",
       "981            161    23                     Afternoon    acceptable_delay   \n",
       "163123         356    50                     Afternoon  unacceptable_delay   \n",
       "...            ...   ...                           ...                 ...   \n",
       "261725         243    34                       Evening  unacceptable_delay   \n",
       "769466          33     4                       Morning    acceptable_delay   \n",
       "938071          57     8                       Evening  unacceptable_delay   \n",
       "479019         321    45                       Morning  unacceptable_delay   \n",
       "95753            8     1                     Afternoon    acceptable_delay   \n",
       "\n",
       "        DISTANCE_CATEGORY  \n",
       "174378               long  \n",
       "610587               long  \n",
       "627123               long  \n",
       "981                 short  \n",
       "163123               long  \n",
       "...                   ...  \n",
       "261725               long  \n",
       "769466               long  \n",
       "938071               long  \n",
       "479019              short  \n",
       "95753                long  \n",
       "\n",
       "[79552 rows x 38 columns]"
      ]
     },
     "execution_count": 21,
     "metadata": {},
     "output_type": "execute_result"
    }
   ],
   "source": [
    "import numpy as np\n",
    "Decision_data=no_null_data.loc[no_null_data['AIRLINE']=='UA']\n",
    "Decision_data\n",
    "Decision_df=pd.DataFrame(Decision_data)\n",
    "Decision_df\n",
    "Decision_df['DELAY'] = np.where(Decision_df['ARRIVAL_DELAY']<=45, 'acceptable_delay', 'unacceptable_delay')\n",
    "Decision_df\n",
    "#Equal width binning.\n",
    "Decision_df['DISTANCE'].describe()   \n",
    "# Equal width Binning of DISTANCE column.\n",
    "pd.qcut(Decision_df['DISTANCE'], q=2).value_counts()\n",
    "labels = ['short', 'long']\n",
    "bins = [0, 1024.0, 4962.0]\n",
    "Decision_df['DISTANCE_CATEGORY'] = pd.cut(Decision_df['DISTANCE'], bins=bins, labels=labels)\n",
    "Decision_df"
   ]
  },
  {
   "cell_type": "markdown",
   "metadata": {},
   "source": [
    "#### b) Decision tree:\n",
    "Consider the extended dataset from the previous task (task a). Use 'SCHEDULED_DEPARTURE_CATEGORY', 'DISTANCE_CATEGORY', and 'DAY_OF_WEEK' as descriptive features. Generate a decision tree in which the minimum number of samples for splitting is 1000.\n",
    "\n",
    "Note: for this task, you must use p_decision_tree library. You can use the attached yaml file to build Python environment for this task. The easiest way is to just use *pip install*."
   ]
  },
  {
   "cell_type": "code",
   "execution_count": 22,
   "metadata": {},
   "outputs": [],
   "source": [
    "# Your code\n",
    "!pip install graphviz\n",
    "pip.main(['install', 'p_decision_tree'])\n",
    "from p_decision_tree.DecisionTree import DecisionTree\n",
    "desc = ['SCHEDULED_DEPARTURE_CATEGORY', 'DISTANCE_CATEGORY','DAY_OF_WEEK']\n",
    "targ = \"DELAY\"\n",
    "\n",
    "for column in desc:\n",
    "    Decision_df[column]= Decision_df[column].astype(str)\n",
    "\n",
    "data_descriptive = Decision_df[desc].values\n",
    "data_label = Decision_df[targ].values\n",
    "\n",
    "tree1 = DecisionTree(data_descriptive.tolist(), desc, data_label.tolist(), \"entropy\")\n",
    "tree1.id3(0,1000)\n",
    "# tree2 = DecisionTree(data_descriptive.tolist(), desc, data_label.tolist(), \"entropy\")\n",
    "# tree2.id3(0,1)\n",
    "dot1 = tree1.print_visualTree( render=True )\n",
    "# dot2 = tree2.print_visualTree( render=True )\n",
    "\n"
   ]
  },
  {
   "cell_type": "markdown",
   "metadata": {},
   "source": [
    "#### c) ID3 feature selection:\n",
    "In the generated decision tree, what is the best feature (based on entropy) for splitting the tree in the second round of ID3 considering the value of the feature chosen in the first round of ID3?       "
   ]
  },
  {
   "cell_type": "markdown",
   "metadata": {},
   "source": [
    "    Your answer:\n",
    "    "
   ]
  },
  {
   "cell_type": "markdown",
   "metadata": {},
   "source": [
    "#### d) Rule interpretation:\n",
    "Based on the discovered decision tree, which conditions are more prone to more than 45 minutes delay. Explain two rules."
   ]
  },
  {
   "cell_type": "markdown",
   "metadata": {},
   "source": [
    "    Your answer:\n"
   ]
  },
  {
   "cell_type": "markdown",
   "metadata": {},
   "source": [
    "## Question 3 - Classification Models and Prediction (50 Points):"
   ]
  },
  {
   "cell_type": "markdown",
   "metadata": {},
   "source": [
    "### Background of this Question:\n",
    "You heard from a friend that you are entitled to receive a payment of at least 150€ if your flight is delayed by more than 3 hours. Very excited, you are reminded of your IDS course and the flight dataset you had to analyze back then. You start to imagine a model trained on these flights that can predict if your future flights are delayed by three hours and, basically, allow you to travel the world for free if it chooses these flights correctly. You remember your IDS lecture and what you have to do to make your dream come true: You want to prepare the data accordingly, i.e., you model the target variable of being delayed by more than 3 hours and you choose and model the descriptive variable that you want to use for predicting delay. For the evaluation of your models, you have to choose an evaluation metric that describes whether the flights chosen by your model are actually delayed by <b> at least </b> 3 hours. Moreover, for the models, you want to train different regression, SVM, and neural network models with different parameters and find the best one. In the end, you should calculate for which flight price your model lets you travel the world for free.\n",
    "### Parts of this question:\n",
    "We want you to systematically approach the questions. So we take the following steps (parts): preparing the data, what is the target variable, what are your descriptive variables, what is the evaluation measure you are trying to maximize, and what is the baseline you should at least be better than?"
   ]
  },
  {
   "cell_type": "markdown",
   "metadata": {},
   "source": [
    "### Part 0: Preparing the dataset"
   ]
  },
  {
   "cell_type": "markdown",
   "metadata": {},
   "source": [
    "Load the classification dataset; i.e., <b>flights_classifying.csv</b>."
   ]
  },
  {
   "cell_type": "code",
   "execution_count": 33,
   "metadata": {},
   "outputs": [],
   "source": [
    "# Your code\n",
    "import pandas as pd\n",
    "import numpy as np\n",
    "import csv\n",
    "from matplotlib import pyplot as plt\n",
    "import seaborn as sns\n",
    "from sklearn.model_selection import train_test_split, StratifiedKFold\n",
    "from sklearn.model_selection import KFold \n",
    "from sklearn.metrics import precision_recall_fscore_support\n",
    "from sklearn.linear_model import LogisticRegression\n",
    "from sklearn import metrics\n",
    "from sklearn.metrics import f1_score\n",
    "from sklearn.svm import SVC\n",
    "from sklearn.neural_network import MLPClassifier\n",
    "from sklearn.preprocessing import LabelEncoder, OneHotEncoder\n",
    "from sklearn.dummy import DummyClassifier"
   ]
  },
  {
   "cell_type": "markdown",
   "metadata": {},
   "source": [
    "Randomly order the data points using one of the group member's students as the random state."
   ]
  },
  {
   "cell_type": "code",
   "execution_count": 34,
   "metadata": {},
   "outputs": [],
   "source": [
    "# Your code\n",
    "# Read original dataset\n",
    "dataset = pd.read_csv(r'D:\\javed\\Data Science\\3rd smester\\IDS\\Assignment 1\\flights_classifying.csv')\n",
    "dataset.head()\n",
    "order_data = dataset.sample(frac=1, random_state=414354)"
   ]
  },
  {
   "cell_type": "markdown",
   "metadata": {},
   "source": [
    "### Part 1: Designing your variables and evaluation"
   ]
  },
  {
   "cell_type": "markdown",
   "metadata": {},
   "source": [
    "#### a) Target feature:\n",
    "Design your target feature such that you can predict whether a flight is delayed by more than 3 hours or not and add it to the dataset. Drop all data points that contain a canceled flight."
   ]
  },
  {
   "cell_type": "code",
   "execution_count": 35,
   "metadata": {},
   "outputs": [
    {
     "data": {
      "text/plain": [
       "(525584, 39)"
      ]
     },
     "execution_count": 35,
     "metadata": {},
     "output_type": "execute_result"
    }
   ],
   "source": [
    "# Your code\n",
    "order_data['IS_DELAYED'] = np.where(order_data['AIRLINE_DELAY'] > 180 , True, False)\n",
    "order_data.drop(order_data[order_data.CANCELLED == 1].index, inplace=True)\n",
    "#order_data.head()\n",
    "order_data.shape"
   ]
  },
  {
   "cell_type": "markdown",
   "metadata": {},
   "source": [
    "#### b) Descriptive features:\n",
    "Please select your descriptive features and motivate your choice. Always consider the setting and whether choosing these features makes sense concerning the setting of the question. Apply the necessary transformations."
   ]
  },
  {
   "cell_type": "code",
   "execution_count": 36,
   "metadata": {},
   "outputs": [],
   "source": [
    "# Your code\n",
    "\n",
    "#updated_data = order_data[['DAY', 'FLIGHT_NUMBER', 'SCHEDULED_ARRIVAL', 'DISTANCE',  'SCHEDULED_DEPARTURE','WEEK','DAY_YEARLY','IS_DELAYED']]\n",
    "\n",
    "updated_data = order_data.loc[:, order_data.columns.isin(['DAY', 'FLIGHT_NUMBER', 'SCHEDULED_ARRIVAL', 'DISTANCE', 'AIRLINE', 'TAIL_NUMBER', 'ORIGIN_AIRPORT','DESTINATION_AIRPORT','SCHEDULED_DEPARTURE','WEEK','DAY_YEARLY','AIR_TIME','IS_DELAYED'])]\n",
    "updated_data_modified = updated_data.copy()\n",
    "# # Modifying categorical features to numerical\n",
    "label_encoder = LabelEncoder()\n",
    "updated_data_modified['AIRLINE'] = label_encoder.fit_transform(updated_data_modified['AIRLINE']) # transforming the desired categorical column.\n",
    "updated_data_modified['TAIL_NUMBER'] = label_encoder.fit_transform(updated_data_modified['TAIL_NUMBER']) # transforming the desired categorical column.\n",
    "updated_data_modified['ORIGIN_AIRPORT'] = label_encoder.fit_transform(updated_data_modified['ORIGIN_AIRPORT']) # transforming the desired categorical column.\n",
    "updated_data_modified['DESTINATION_AIRPORT'] = label_encoder.fit_transform(updated_data_modified['DESTINATION_AIRPORT']) # transforming the desired categorical column.\n",
    "\n",
    "# updated_data_modified = pd.get_dummies(updated_data_modified)\n",
    "\n",
    "\n",
    "\n",
    "descriptive_features = updated_data_modified[['DAY', 'FLIGHT_NUMBER', 'SCHEDULED_ARRIVAL', 'DISTANCE', 'AIRLINE', 'TAIL_NUMBER', 'ORIGIN_AIRPORT','DESTINATION_AIRPORT','SCHEDULED_DEPARTURE','WEEK','DAY_YEARLY','AIR_TIME']]\n",
    "\n",
    "target_features = updated_data_modified['IS_DELAYED']\n",
    "#descriptive_features_modified = pd.get_dummies(descriptive_features_modified)\n",
    "\n",
    "\n",
    "#target_features\n",
    "#updated_data_modified.head()"
   ]
  },
  {
   "cell_type": "markdown",
   "metadata": {},
   "source": [
    "Split your data into training and testing data, with 85% of the dataset going to testing data."
   ]
  },
  {
   "cell_type": "code",
   "execution_count": 37,
   "metadata": {},
   "outputs": [
    {
     "name": "stdout",
     "output_type": "stream",
     "text": [
      "78837\n"
     ]
    }
   ],
   "source": [
    "# Your code\n",
    "# 15% training data, 85% test data\n",
    "x_train, x_test, y_train, y_test = train_test_split(descriptive_features,\n",
    "                                                                target_features,\n",
    "                                                                train_size=0.15,\n",
    "                                                                stratify=target_features,\n",
    "                                                                random_state = 414354)\n",
    "\n",
    "print(len(x_train))\n",
    "x_train_updated = x_train.copy()\n",
    "\n",
    "x_train_updated['IS_DELAYED'] = y_train"
   ]
  },
  {
   "cell_type": "code",
   "execution_count": 38,
   "metadata": {},
   "outputs": [],
   "source": [
    "tr =  x_train_updated[x_train_updated['IS_DELAYED'] == 1]\n",
    "for i in range(10):\n",
    "    x_train_updated = pd.concat([x_train_updated,tr], ignore_index=True)\n"
   ]
  },
  {
   "cell_type": "code",
   "execution_count": 39,
   "metadata": {},
   "outputs": [],
   "source": [
    "df = x_train_updated[x_train_updated['IS_DELAYED']==0].iloc[0:int(len(x_train_updated)/2.5)]\n",
    "x_train_updated = pd.concat([df,x_train_updated[x_train_updated['IS_DELAYED'] == 1]])"
   ]
  },
  {
   "cell_type": "code",
   "execution_count": 40,
   "metadata": {},
   "outputs": [],
   "source": [
    "x_train = x_train_updated.drop(['IS_DELAYED'],axis=1)"
   ]
  },
  {
   "cell_type": "code",
   "execution_count": 41,
   "metadata": {},
   "outputs": [],
   "source": [
    "y_train = x_train_updated['IS_DELAYED']"
   ]
  },
  {
   "cell_type": "markdown",
   "metadata": {},
   "source": [
    "#### c) Evaluation metric\n",
    "Discuss and choose an evaluation metric that you can evaluate your predictions against. Hint: Be aware of the setting of this questions, i.e., what your goal is."
   ]
  },
  {
   "cell_type": "code",
   "execution_count": null,
   "metadata": {},
   "outputs": [],
   "source": [
    "#you may put code here, if necessary"
   ]
  },
  {
   "cell_type": "markdown",
   "metadata": {},
   "source": [
    "    Your answer:\n",
    "    Since we are getting descrete values whether flight will be delayed or not. For that reason we are choosing a binary classification/ logistic regression model. The evaluation mertric being used is F1-score due to the binary nature of the problem for visualization we can see the Confusion matrix\n",
    "    "
   ]
  },
  {
   "cell_type": "markdown",
   "metadata": {},
   "source": [
    "#### d) Evaluation baseline\n",
    "Calculate the baseline of the evaluation metric, i.e., a value you can achieve without any model by basic data analysis."
   ]
  },
  {
   "cell_type": "code",
   "execution_count": 42,
   "metadata": {},
   "outputs": [
    {
     "data": {
      "image/png": "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\n",
      "text/plain": [
       "<Figure size 432x288 with 1 Axes>"
      ]
     },
     "metadata": {},
     "output_type": "display_data"
    }
   ],
   "source": [
    "# Your code\n",
    "strategies = ['most_frequent', 'stratified', 'uniform']\n",
    "  \n",
    "test_scores = []\n",
    "for strategy in strategies:\n",
    "    dclf = DummyClassifier(strategy = strategy)\n",
    "    dclf.fit(x_train, y_train)\n",
    "    score = dclf.score(x_test, y_test)\n",
    "    test_scores.append(score)\n",
    "    \n",
    "ax = sns.stripplot(strategies, test_scores);\n",
    "ax.set(xlabel ='Strategy', ylabel ='Score')\n",
    "plt.show()"
   ]
  },
  {
   "cell_type": "markdown",
   "metadata": {},
   "source": [
    "    Your answer:\n",
    "    \n",
    "    "
   ]
  },
  {
   "cell_type": "markdown",
   "metadata": {},
   "source": [
    "### Part 2: Model Selection\n",
    "\n",
    "For each of the classifiers: regression, SVM and neural network, train a model. For each of these models, select and fine-tune the parameters such that the result w.r.t. your evaluation metric is as good as possible. You have to k-fold cross-validate (reasonable choice of k) your training and you have to test your predictions on the test dataset.\n",
    "\n",
    "Hint: There might be some problems with class imbalance when you fit your models.\n"
   ]
  },
  {
   "cell_type": "markdown",
   "metadata": {},
   "source": [
    "#### a) Regression:\n",
    "Train, finetune and evaluate a regression model."
   ]
  },
  {
   "cell_type": "code",
   "execution_count": 43,
   "metadata": {},
   "outputs": [
    {
     "name": "stdout",
     "output_type": "stream",
     "text": [
      "F1 Score: 0.9338938653463204\n"
     ]
    },
    {
     "data": {
      "image/png": "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\n",
      "text/plain": [
       "<Figure size 360x360 with 2 Axes>"
      ]
     },
     "metadata": {},
     "output_type": "display_data"
    }
   ],
   "source": [
    "# Your code\n",
    "# Your code\n",
    "\n",
    "# Computing confusion matrix\n",
    "classifier_bf = LogisticRegression(solver='liblinear')\n",
    "classifier_bf.fit(x_train, y_train)\n",
    "targetF_bf_pred = classifier_bf.predict(x_test)\n",
    "cl_gf_score = classifier_bf.score(x_test, y_test)\n",
    "\n",
    "cm_pred = metrics.confusion_matrix(y_test, targetF_bf_pred)\n",
    "\n",
    "# Printing classifier scores\n",
    "print( \"F1 Score: \" + str(f1_score(y_test, targetF_bf_pred,average='weighted',zero_division=1)))\n",
    "\n",
    " # Plotting confusion matrix\n",
    "plt.figure(figsize=(5,5))\n",
    "sns.heatmap(cm_pred, annot=True, fmt=\".3f\", linewidths=.5, square = True, cmap = 'Blues_r');\n",
    "plt.ylabel('Actual label');\n",
    "plt.xlabel('Predicted label');\n",
    "plt.title('Confusion matrix', size = 12);"
   ]
  },
  {
   "cell_type": "code",
   "execution_count": 44,
   "metadata": {},
   "outputs": [],
   "source": [
    "#Helper function for plotting Confusion matrix for better visualization\n",
    "def print_confusion_m_matrix(confusion_matrix, axes, class_label, class_names, fontsize=14):\n",
    "\n",
    "    df_cm = pd.DataFrame(\n",
    "        confusion_matrix, index=class_names, columns=class_names,\n",
    "    )\n",
    "\n",
    "    try:\n",
    "        heatmap = sns.heatmap(df_cm, annot=True, fmt=\"d\", cbar=False, ax=axes)\n",
    "    except ValueError:\n",
    "        raise ValueError(\"Confusion matrix values must be integers.\")\n",
    "    heatmap.yaxis.set_ticklabels(heatmap.yaxis.get_ticklabels(), rotation=0, ha='right', fontsize=fontsize)\n",
    "    heatmap.xaxis.set_ticklabels(heatmap.xaxis.get_ticklabels(), rotation=45, ha='right', fontsize=fontsize)\n",
    "    axes.set_xlabel('Predicted label')\n",
    "    axes.set_ylabel('True label')\n",
    "    axes.set_title(\"Confusion Matrix for the class - \" + class_label)"
   ]
  },
  {
   "cell_type": "code",
   "execution_count": null,
   "metadata": {},
   "outputs": [],
   "source": [
    "X_train_NN_fold= []\n",
    "X_test_NN_fold= []\n",
    "y_train_NN_fold= []\n",
    "y_test_NN_fold= []\n",
    "kf = KFold(n_splits=5,random_state=414354)\n",
    "for train_index, test_index in kf.split(x_train):\n",
    "    \n",
    "    X_train_NN_fold.append(x_train.iloc[train_index])\n",
    "    X_test_NN_fold.append (x_train.iloc[test_index]) \n",
    "    y_train_NN_fold.append(y_train.iloc[train_index]) \n",
    "    y_test_NN_fold.append(y_train.iloc[test_index])"
   ]
  },
  {
   "cell_type": "code",
   "execution_count": null,
   "metadata": {},
   "outputs": [],
   "source": [
    "y_pred_train_M1= []\n",
    "y_pred_test_M1= []\n",
    "y_pred_train_M2= []\n",
    "y_pred_test_M2= []\n",
    "a_score_M1=[]\n",
    "a_score_M2=[]\n",
    "for i in range(5):\n",
    "    print(color.BOLD + color.BLUE + \"--------------------------K-Cross Validation set : \" +str(i+1)+ \"--------------------------\" + color.END)\n",
    "    print(color.BOLD + \"Model 1 for the K-Cross Validation set : \" +str(i+1) + color.END)\n",
    "    classifier_bf.fit(X_train_NN_fold[i],y_train_NN_fold[i])\n",
    "    y_pred_k= classifier_bf.predict(X_test_NN_fold[i])\n",
    "    y_pred_t= classifier_bf.predict(X_train_NN_fold[i])\n",
    "    y_pred_test_M1.append(y_pred_k)\n",
    "    y_pred_train_M1.append(y_pred_t)\n",
    "    f1_scorem= f1_score(y_test_NN_fold[i], y_pred_k,average='weighted',zero_division=1)\n",
    "    print( \" F1 Score: \" + str(f1_scorem))"
   ]
  },
  {
   "cell_type": "code",
   "execution_count": null,
   "metadata": {},
   "outputs": [],
   "source": [
    "ML_ConfusionMatrix= []\n",
    "for i in range(5):\n",
    "    ML_ConfusionMatrix.append(metrics.confusion_matrix(y_train_NN_fold[i].to_numpy(), y_pred_train_M1[i]))\n",
    "ML_Final_ConfusionMatrix= ML_ConfusionMatrix # Formation of final Confusion matrix by cell by cell summation\n",
    "    \n",
    "fig, ax = plt.subplots(3,2 , figsize=(10, 10))\n",
    "fig.suptitle(\"Confusion Matrix for Model 1 'classifier' on Training Data\")\n",
    "fig.subplots_adjust(hspace=0.7)\n",
    "for axes, cfs_matrix in zip(ax.flatten(), ML_Final_ConfusionMatrix):\n",
    "    print_confusion_m_matrix(cfs_matrix, axes, 'IS_DELAYED', [\"N\", \"Y\"])\n",
    "fig.delaxes(ax[2,1])\n",
    "plt.show() "
   ]
  },
  {
   "cell_type": "markdown",
   "metadata": {},
   "source": [
    "#### b) SVM:\n",
    "Train, finetune and evaluate an SVM.\n",
    "In this task we advise you to use only a subset of the training dataset, i.e., 10000 datapoints, since this is computationally very expensive."
   ]
  },
  {
   "cell_type": "code",
   "execution_count": null,
   "metadata": {},
   "outputs": [],
   "source": [
    "# Your code\n",
    "#tr_subset = training_data.head(10000)\n",
    "descriptive_features = x_train.head(10000)\n",
    "target_features = y_train.head(10000)\n",
    "#descriptive_features = tr_subset.loc[:, tr_subset.columns.isin(['AIRLINE_DELAY', 'SECURITY_DELAY', 'WEATHER_DELAY', 'LATE_AIRCRAFT_DELAY', 'AIR_SYSTEM_DELAY', 'DEPARTURE_DELAY', 'ARRIVAL_DELAY'])]\n",
    "#target_features = tr_subset['IS_DELAYED']\n",
    "\n",
    "#this time, we train an SVM classifier\n",
    "classifier = SVC(C=1, kernel='linear', gamma = 'auto')\n",
    "classifier.fit(descriptive_features, target_features)\n",
    "\n",
    "targetFeature_iris_predict = classifier.predict(x_test)\n",
    "targetFeature_iris_predict[0:5] #show the first 5 predicted values"
   ]
  },
  {
   "cell_type": "code",
   "execution_count": null,
   "metadata": {},
   "outputs": [],
   "source": [
    "testing_desc = x_test\n",
    "#testing_data.loc[:, testing_data.columns.isin(['AIRLINE_DELAY', 'SECURITY_DELAY', 'WEATHER_DELAY', 'LATE_AIRCRAFT_DELAY', 'AIR_SYSTEM_DELAY', 'DEPARTURE_DELAY', 'ARRIVAL_DELAY'])]\n",
    "testing_tar = y_test\n",
    "targetFeature_iris_predict = classifier.predict(testing_desc)\n",
    "classifier.decision_function(descriptive_features)\n",
    "\n",
    "#print('Accuracy: \\n', classifier.score(testing_desc,testing_tar))\n",
    "\n",
    "print('Accuracy: \\n', f1_score(targetFeature_iris_predict, y_test, average='weighted'))\n",
    "\n",
    "cm_pred = metrics.confusion_matrix(y_test, targetFeature_iris_predict)\n",
    "\n",
    "# Plotting confusion matrix\n",
    "plt.figure(figsize=(5,5))\n",
    "sns.heatmap(cm_pred, annot=True, fmt=\".3f\", linewidths=.5, square = True, cmap = 'Blues_r');\n",
    "plt.ylabel('Actual label');\n",
    "plt.xlabel('Predicted label');\n",
    "plt.title('Confusion matrix', size = 12);"
   ]
  },
  {
   "cell_type": "markdown",
   "metadata": {},
   "source": [
    "#### c) Neural Network:\n",
    "Train, finetune and evaluate a neural network. You do not need to test all the hyper-parameters, just a reasonable amount.\n",
    "\n",
    "Hint: You might encounter some problems due to the class imbalance of delayed and undelayed flights."
   ]
  },
  {
   "cell_type": "code",
   "execution_count": null,
   "metadata": {},
   "outputs": [],
   "source": [
    "# Your code\n",
    "classifier_opt = MLPClassifier(hidden_layer_sizes=(128,),activation='relu',max_iter=8000,random_state=414354, \\\n",
    "                               learning_rate_init=0.0001,solver='sgd',batch_size = 64) #Model Generation\n",
    "classifier_opt.fit(x_train, y_train) #Training\n",
    "\n",
    "y_pred_n_o= classifier_opt.predict(x_test) #Prediction\n"
   ]
  },
  {
   "cell_type": "code",
   "execution_count": null,
   "metadata": {},
   "outputs": [],
   "source": [
    "print( \"F1 Score: \" + str(f1_score(y_test, y_pred_n_o,average='weighted',zero_division=1)))\n",
    "\n",
    "# Plotting confusion matrix\n",
    "cm_pred = metrics.confusion_matrix(y_test, y_pred_n_o)\n",
    "plt.figure(figsize=(5,5))\n",
    "sns.heatmap(cm_pred, annot=True, fmt=\".3f\", linewidths=.5, square = True, cmap = 'Blues_r');\n",
    "plt.ylabel('Actual label');\n",
    "plt.xlabel('Predicted label');\n",
    "plt.title('Confusion matrix', size = 12);"
   ]
  },
  {
   "cell_type": "code",
   "execution_count": null,
   "metadata": {},
   "outputs": [],
   "source": [
    "y_pred_train_M1= []\n",
    "y_pred_test_M1= []\n",
    "y_pred_train_M2= []\n",
    "y_pred_test_M2= []\n",
    "a_score_M1=[]\n",
    "a_score_M2=[]\n",
    "for i in range(5):\n",
    "    print(color.BOLD + color.BLUE + \"--------------------------K-Cross Validation set : \" +str(i+1)+ \"--------------------------\" + color.END)\n",
    "    print(color.BOLD + \"Model 1 for the K-Cross Validation set : \" +str(i+1) + color.END)\n",
    "    classifier_opt.fit(X_train_NN_fold[i],y_train_NN_fold[i])\n",
    "    y_pred_k= classifier_opt.predict(X_test_NN_fold[i])\n",
    "    y_pred_t= classifier_opt.predict(X_train_NN_fold[i])\n",
    "    y_pred_test_M1.append(y_pred_k)\n",
    "    y_pred_train_M1.append(y_pred_t)\n",
    "    f1_scorem= f1_score(y_test_NN_fold[i], y_pred_k,average='weighted',zero_division=1)\n",
    "    print( \" F1 Score: \" + str(f1_scorem))"
   ]
  },
  {
   "cell_type": "code",
   "execution_count": null,
   "metadata": {},
   "outputs": [],
   "source": [
    "ML_ConfusionMatrix= []\n",
    "for i in range(5):\n",
    "    ML_ConfusionMatrix.append(metrics.confusion_matrix(y_train_NN_fold[i].to_numpy(), y_pred_train_M1[i]))\n",
    "ML_Final_ConfusionMatrix= ML_ConfusionMatrix # Formation of final Confusion matrix by cell by cell summation\n",
    "    \n",
    "fig, ax = plt.subplots(3,2 , figsize=(10, 10))\n",
    "fig.suptitle(\"Confusion Matrix for Model 1 'classifier' on Training Data\")\n",
    "fig.subplots_adjust(hspace=0.7)\n",
    "for axes, cfs_matrix in zip(ax.flatten(), ML_Final_ConfusionMatrix):\n",
    "    print_confusion_m_matrix(cfs_matrix, axes, 'IS_DELAYED', [\"N\", \"Y\"])\n",
    "fig.delaxes(ax[2,1])\n",
    "plt.show() "
   ]
  },
  {
   "cell_type": "markdown",
   "metadata": {},
   "source": [
    "### Part 3: Final conclusion\n",
    "Describe your results for different models and your performance in comparison to the baseline. Are you able to increase the likelihood of getting a delayed flight with your recommendation in comparison to a random selection? What is the flight price for which your model is profitable?"
   ]
  },
  {
   "cell_type": "code",
   "execution_count": null,
   "metadata": {},
   "outputs": [],
   "source": [
    "# your code if needed"
   ]
  },
  {
   "cell_type": "markdown",
   "metadata": {},
   "source": [
    "    Your answer:\n",
    "    \n",
    "    "
   ]
  },
  {
   "cell_type": "markdown",
   "metadata": {},
   "source": [
    "## Question 4 - Clustering (20 Points):"
   ]
  },
  {
   "cell_type": "markdown",
   "metadata": {},
   "source": [
    "### Setting of this Question:\n",
    "There are different types of delay in the dataset. If a flight is delayed before departure, the pilot might fly faster to compensate for the delay. Due to the type of delay and different characteristics of a flight, it might be possible to compensate for the delay or not. In this task we are going to investigate if the compensation for the delay is possible considering different delay types that occurs during a flight.\n",
    "\n",
    "To prepare the dataset for the analysis, first perform the following steps:\n",
    "\n",
    "- Consider <b>no_null_data</b> from the first question in which the null values of the dataset are removed.\n",
    "- Remove all the flights with more than 600 minutes weather delay <b>or</b> with more than 600 minutes late arrival delay. \n",
    "- Create a new feature, 'AIR_TIME_DELAY' indicating the difference between elapsed time and scheduled time (i.e., 'ELAPSED_TIME' - 'SCHEDULED_TIME'). This feature shows the difference between real and planned duration. Explain what does the negative and positive value of this feature mean?\n",
    "- Name the new dataset as <b>clustering_dataset</b>. Print the number of rows and columns in this dataset. Print the first 10 rows of the dataset such that 'AIR_TIME_DELAY', 'SCHEDULED_TIME', and 'ELAPSED_TIME' are readable."
   ]
  },
  {
   "cell_type": "code",
   "execution_count": 25,
   "metadata": {},
   "outputs": [],
   "source": [
    "# Your code\n",
    "no_null_data_600 = no_null_data[(no_null_data[\"ARRIVAL_DELAY\"] > 600) | (no_null_data[\"WEATHER_DELAY\"]>600)]\n",
    "\n",
    "Air_Time_Delay = no_null_data_600[\"ELAPSED_TIME\"] - no_null_data_600[\"SCHEDULED_TIME\"]\n",
    "\n",
    "no_null_data_600_2 = no_null_data_600.assign(AIR_TIME_DELAY = Air_Time_Delay)\n",
    "clustering_dataset = no_null_data_600_2"
   ]
  },
  {
   "cell_type": "markdown",
   "metadata": {},
   "source": [
    "    Your answer: The negative value indicates that the real flight time took less than the planned flight duration and positive value indicates that we are facing a delay in flights!\n",
    "    "
   ]
  },
  {
   "cell_type": "markdown",
   "metadata": {},
   "source": [
    "#### a) K-means Clustering\n",
    "Perform k-mean clustering based on the following features: 'AIR_TIME_DELAY', 'WEATHER_DELAY', 'LATE_AIRCRAFT_DELAY'.\n",
    "    Let's start step by step:\n",
    "\n",
    "<!-- * Print minimum and maximum values of the 3 mentioned features in <b>clustering_dataset</b>. According to the minimum and maximum values, is it fair to use them directly for clustering analysis? Explain why?\n",
    "* Create 3 new features, namely \"AIR_TIME_DELAY_SCALED\", \"LATE_AIRCRAFT_DELAY_SCALED\", \"WEATHER_DELAY_SCALED\". For scaling, we recommend well-known Min-Max normalization. For each feature with minimum <I>Min</I> and Maximum <I>Max</I>, the scaled value is x_scaled = (x-Min)/(Max-Min). Print minimum and maximum value of \"AIR_TIME_DELAY_SCALED\", \"LATE_AIRCRAFT_DELAY_SCALED\", \"WEATHER_DELAY_SCALED\". -->\n",
    "- Perform k-means clustering algorithm using k=5 on <b>clustering_dataset</b>. Set the parameters such that the algorithm runs at least 5 times using different centroid seeds. Theoretically, explain why running the algorithm with different centroid seeds is necessary.\n",
    "- What is the centroid of each cluster and the number of samples in it.\n",
    "- Add a new column 'cluster' to <b>clustering_dataset</b>. This column indicates to which cluster each flight belongs. Use 'c1', 'c2', 'c3', 'c4, and 'c5' as cluster labels."
   ]
  },
  {
   "cell_type": "code",
   "execution_count": 26,
   "metadata": {},
   "outputs": [],
   "source": [
    "# Your code\n",
    "from sklearn.cluster import KMeans\n",
    "import csv\n",
    "from matplotlib import pyplot as plt\n",
    "\n",
    "from pandas import DataFrame\n",
    "from typing import Set, Any\n",
    "def remove_others(df: DataFrame, columns: Set[Any]):\n",
    "    cols_total: Set[Any] = set(df.columns)\n",
    "    diff: Set[Any] = cols_total - columns\n",
    "    df.drop(diff, axis=1, inplace=True)"
   ]
  },
  {
   "cell_type": "code",
   "execution_count": 27,
   "metadata": {},
   "outputs": [
    {
     "name": "stdout",
     "output_type": "stream",
     "text": [
      "Centroids: \n",
      " [[-2.29901269e+00  2.70803949e-01  8.01974612e+00]\n",
      " [-6.16806723e+00  1.55462185e+00  6.57042017e+02]\n",
      " [ 4.77064220e+00  7.61899083e+02  1.90275229e+01]\n",
      " [-3.14084507e+00  3.18309859e+00  2.79845070e+02]\n",
      " [-6.95454545e+00  1.46363636e+01  1.01122727e+03]]\n"
     ]
    }
   ],
   "source": [
    "remove_others(clustering_dataset, {\"LATE_AIRCRAFT_DELAY\",\"WEATHER_DELAY\", \"AIR_TIME_DELAY\"}) #,\"LATE_AIRCRAFT_DELAY\"\n",
    "\n",
    "xdata = clustering_dataset[\"AIR_TIME_DELAY\"].values\n",
    "ydata = clustering_dataset[\"WEATHER_DELAY\"].values\n",
    "zdata = clustering_dataset[\"LATE_AIRCRAFT_DELAY\"].values\n",
    "\n",
    "kmeans_data = np.array(list(zip(xdata, ydata, zdata)))\n",
    "\n",
    "cluster_num = 5\n",
    "# print(kmeans.cluster_centers_)\n",
    "kmeans = KMeans(cluster_num, n_init=5).fit(kmeans_data)\n",
    "# print(kmeans.cluster_centers_)\n",
    "clusters = kmeans.labels_\n",
    "centroids = kmeans.cluster_centers_\n",
    "print(\"Centroids: \\n\", centroids)"
   ]
  },
  {
   "cell_type": "code",
   "execution_count": 28,
   "metadata": {},
   "outputs": [
    {
     "data": {
      "text/html": [
       "<div>\n",
       "<style scoped>\n",
       "    .dataframe tbody tr th:only-of-type {\n",
       "        vertical-align: middle;\n",
       "    }\n",
       "\n",
       "    .dataframe tbody tr th {\n",
       "        vertical-align: top;\n",
       "    }\n",
       "\n",
       "    .dataframe thead th {\n",
       "        text-align: right;\n",
       "    }\n",
       "</style>\n",
       "<table border=\"1\" class=\"dataframe\">\n",
       "  <thead>\n",
       "    <tr style=\"text-align: right;\">\n",
       "      <th></th>\n",
       "      <th>LATE_AIRCRAFT_DELAY</th>\n",
       "      <th>WEATHER_DELAY</th>\n",
       "      <th>AIR_TIME_DELAY</th>\n",
       "      <th>clustering_dataset</th>\n",
       "    </tr>\n",
       "  </thead>\n",
       "  <tbody>\n",
       "    <tr>\n",
       "      <th>336652</th>\n",
       "      <td>0.0</td>\n",
       "      <td>0.0</td>\n",
       "      <td>-7.0</td>\n",
       "      <td>c1</td>\n",
       "    </tr>\n",
       "    <tr>\n",
       "      <th>597490</th>\n",
       "      <td>0.0</td>\n",
       "      <td>0.0</td>\n",
       "      <td>-7.0</td>\n",
       "      <td>c1</td>\n",
       "    </tr>\n",
       "    <tr>\n",
       "      <th>573784</th>\n",
       "      <td>603.0</td>\n",
       "      <td>0.0</td>\n",
       "      <td>18.0</td>\n",
       "      <td>c2</td>\n",
       "    </tr>\n",
       "    <tr>\n",
       "      <th>297538</th>\n",
       "      <td>0.0</td>\n",
       "      <td>0.0</td>\n",
       "      <td>-28.0</td>\n",
       "      <td>c1</td>\n",
       "    </tr>\n",
       "    <tr>\n",
       "      <th>476441</th>\n",
       "      <td>725.0</td>\n",
       "      <td>0.0</td>\n",
       "      <td>-7.0</td>\n",
       "      <td>c2</td>\n",
       "    </tr>\n",
       "    <tr>\n",
       "      <th>137929</th>\n",
       "      <td>125.0</td>\n",
       "      <td>0.0</td>\n",
       "      <td>21.0</td>\n",
       "      <td>c1</td>\n",
       "    </tr>\n",
       "    <tr>\n",
       "      <th>771329</th>\n",
       "      <td>243.0</td>\n",
       "      <td>0.0</td>\n",
       "      <td>-5.0</td>\n",
       "      <td>c4</td>\n",
       "    </tr>\n",
       "    <tr>\n",
       "      <th>255689</th>\n",
       "      <td>0.0</td>\n",
       "      <td>0.0</td>\n",
       "      <td>19.0</td>\n",
       "      <td>c1</td>\n",
       "    </tr>\n",
       "    <tr>\n",
       "      <th>374301</th>\n",
       "      <td>407.0</td>\n",
       "      <td>0.0</td>\n",
       "      <td>-17.0</td>\n",
       "      <td>c4</td>\n",
       "    </tr>\n",
       "    <tr>\n",
       "      <th>628897</th>\n",
       "      <td>0.0</td>\n",
       "      <td>0.0</td>\n",
       "      <td>-5.0</td>\n",
       "      <td>c1</td>\n",
       "    </tr>\n",
       "    <tr>\n",
       "      <th>160646</th>\n",
       "      <td>0.0</td>\n",
       "      <td>0.0</td>\n",
       "      <td>0.0</td>\n",
       "      <td>c1</td>\n",
       "    </tr>\n",
       "    <tr>\n",
       "      <th>193042</th>\n",
       "      <td>90.0</td>\n",
       "      <td>0.0</td>\n",
       "      <td>21.0</td>\n",
       "      <td>c1</td>\n",
       "    </tr>\n",
       "    <tr>\n",
       "      <th>40554</th>\n",
       "      <td>17.0</td>\n",
       "      <td>748.0</td>\n",
       "      <td>70.0</td>\n",
       "      <td>c3</td>\n",
       "    </tr>\n",
       "    <tr>\n",
       "      <th>351086</th>\n",
       "      <td>0.0</td>\n",
       "      <td>72.0</td>\n",
       "      <td>13.0</td>\n",
       "      <td>c1</td>\n",
       "    </tr>\n",
       "    <tr>\n",
       "      <th>224200</th>\n",
       "      <td>0.0</td>\n",
       "      <td>863.0</td>\n",
       "      <td>46.0</td>\n",
       "      <td>c3</td>\n",
       "    </tr>\n",
       "    <tr>\n",
       "      <th>212496</th>\n",
       "      <td>0.0</td>\n",
       "      <td>626.0</td>\n",
       "      <td>-6.0</td>\n",
       "      <td>c3</td>\n",
       "    </tr>\n",
       "    <tr>\n",
       "      <th>212895</th>\n",
       "      <td>0.0</td>\n",
       "      <td>632.0</td>\n",
       "      <td>-16.0</td>\n",
       "      <td>c3</td>\n",
       "    </tr>\n",
       "    <tr>\n",
       "      <th>389929</th>\n",
       "      <td>0.0</td>\n",
       "      <td>1052.0</td>\n",
       "      <td>60.0</td>\n",
       "      <td>c3</td>\n",
       "    </tr>\n",
       "    <tr>\n",
       "      <th>331049</th>\n",
       "      <td>2.0</td>\n",
       "      <td>0.0</td>\n",
       "      <td>-6.0</td>\n",
       "      <td>c1</td>\n",
       "    </tr>\n",
       "    <tr>\n",
       "      <th>329423</th>\n",
       "      <td>0.0</td>\n",
       "      <td>0.0</td>\n",
       "      <td>-6.0</td>\n",
       "      <td>c1</td>\n",
       "    </tr>\n",
       "  </tbody>\n",
       "</table>\n",
       "</div>"
      ],
      "text/plain": [
       "        LATE_AIRCRAFT_DELAY  WEATHER_DELAY  AIR_TIME_DELAY clustering_dataset\n",
       "336652                  0.0            0.0            -7.0                 c1\n",
       "597490                  0.0            0.0            -7.0                 c1\n",
       "573784                603.0            0.0            18.0                 c2\n",
       "297538                  0.0            0.0           -28.0                 c1\n",
       "476441                725.0            0.0            -7.0                 c2\n",
       "137929                125.0            0.0            21.0                 c1\n",
       "771329                243.0            0.0            -5.0                 c4\n",
       "255689                  0.0            0.0            19.0                 c1\n",
       "374301                407.0            0.0           -17.0                 c4\n",
       "628897                  0.0            0.0            -5.0                 c1\n",
       "160646                  0.0            0.0             0.0                 c1\n",
       "193042                 90.0            0.0            21.0                 c1\n",
       "40554                  17.0          748.0            70.0                 c3\n",
       "351086                  0.0           72.0            13.0                 c1\n",
       "224200                  0.0          863.0            46.0                 c3\n",
       "212496                  0.0          626.0            -6.0                 c3\n",
       "212895                  0.0          632.0           -16.0                 c3\n",
       "389929                  0.0         1052.0            60.0                 c3\n",
       "331049                  2.0            0.0            -6.0                 c1\n",
       "329423                  0.0            0.0            -6.0                 c1"
      ]
     },
     "execution_count": 28,
     "metadata": {},
     "output_type": "execute_result"
    }
   ],
   "source": [
    "clustering_dataset['clustering_dataset'] = np.zeros( (clustering_dataset.shape[0], 1) )\n",
    "labels = ['c1', 'c2', 'c3', 'c4', 'c5']\n",
    "clustering_dataset['clustering_dataset'] = [labels[kmeans.labels_[i]] for i in range(clustering_dataset.shape[0])]\n",
    "clustering_dataset.tail(20)"
   ]
  },
  {
   "cell_type": "markdown",
   "metadata": {},
   "source": [
    "    Your answer:It is important to run the program with with different centroid seeds in order to test the reliability of the Kmeans algorithm on the data and to avoid random results. In other words, different choices of initial guess may lead to different results. Moreover, Kmeans method is working based on an optimization algorithm. Hence, any bad initial seed which works as initial seed may lead to local solution instead of global solution and unique clustring. For this purpose, it is highly recommended to test the algorithm with different and multiple initial seeds.\n",
    "    "
   ]
  },
  {
   "cell_type": "markdown",
   "metadata": {},
   "source": [
    "#### b) Visualization and Interpretation\n",
    "Create a 3D plot, consider 'AIR_TIME_DELAY', 'LATE_AIRCRAFT_DELAY', 'WEATHER_DELAY' as axes and color the flights using the cluster labels.\n",
    "Based on the visualization and your domain knowledge after the analysis that you performed in this assignment, explain the clusters and compare them. You may use any type of visualizations or extract statistical metrics to make your interpretations clear."
   ]
  },
  {
   "cell_type": "code",
   "execution_count": 29,
   "metadata": {},
   "outputs": [
    {
     "data": {
      "text/plain": [
       "Text(0.5, 0, 'LATE_AIRCRAFT_DELAY')"
      ]
     },
     "execution_count": 29,
     "metadata": {},
     "output_type": "execute_result"
    },
    {
     "data": {
      "image/png": "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\n",
      "text/plain": [
       "<Figure size 720x720 with 1 Axes>"
      ]
     },
     "metadata": {},
     "output_type": "display_data"
    }
   ],
   "source": [
    "# Your code\n",
    "fig = plt.figure(figsize = (10,10))\n",
    "ax = plt.axes(projection='3d')\n",
    "fig.text(.5, .07, \"K-MEANS | number of clusters: {}\".format(cluster_num),ha='center')\n",
    "\n",
    "for cluster_index in range(cluster_num) :\n",
    "    sub_set = np.array([kmeans_data[i] for i in range(len(kmeans_data)) if clusters[i] == cluster_index])\n",
    "    if len(sub_set) == 0 :\n",
    "        continue\n",
    "    ax.scatter3D(sub_set[:,0], sub_set[:,1], sub_set[:,2], s = 10)\n",
    "ax.scatter3D(centroids[:,0], centroids[:,1], centroids[:,2], marker = '*', s = 100, c = 'k')\n",
    "ax.view_init(30, 60)\n",
    "ax.set_xlabel(\"AIR_TIME_DELAY\")\n",
    "ax.set_ylabel(\"WEATHER_DELAY\")\n",
    "ax.set_zlabel(\"LATE_AIRCRAFT_DELAY\")"
   ]
  },
  {
   "cell_type": "code",
   "execution_count": 30,
   "metadata": {},
   "outputs": [
    {
     "data": {
      "image/png": "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\n",
      "text/plain": [
       "<Figure size 1440x360 with 3 Axes>"
      ]
     },
     "metadata": {},
     "output_type": "display_data"
    }
   ],
   "source": [
    "fig = plt.figure(figsize=(20,5))\n",
    "ax1 = fig.add_subplot(1,3,1)\n",
    "ax2 = fig.add_subplot(1,3,2)\n",
    "ax3 = fig.add_subplot(1,3,3)\n",
    "for cluster_index in range(cluster_num) :\n",
    "    sub_set = np.array([kmeans_data[i] for i in range(len(kmeans_data)) if clusters[i] == cluster_index])\n",
    "    if len(sub_set) == 0 :\n",
    "        continue\n",
    "    ax1.scatter(sub_set[:,0], sub_set[:,1])\n",
    "    ax1.set_xlabel(\"AIR_TIME_DELAY\")\n",
    "    ax1.set_ylabel(\"WEATHER_DELAY\")\n",
    "    \n",
    "    ax2.scatter(sub_set[:,0], sub_set[:,2])\n",
    "    ax2.set_xlabel(\"AIR_TIME_DELAY\")\n",
    "    ax2.set_ylabel(\"LATE_AIRCRAFT_DELAY\")\n",
    "    \n",
    "    ax3.scatter(sub_set[:,1], sub_set[:,2])\n",
    "    ax3.set_xlabel(\"WEATHER_DELAY\")\n",
    "    ax3.set_ylabel(\"LATE_AIRCRAFT_DELAY\")"
   ]
  },
  {
   "cell_type": "markdown",
   "metadata": {},
   "source": [
    "    Your answer:The clustering results reveal that when we have weather delay, the Air Craft Delay is very negligible and close to zero.\n",
    "    "
   ]
  }
 ],
 "metadata": {
  "kernelspec": {
   "display_name": "Python 3",
   "language": "python",
   "name": "python3"
  },
  "language_info": {
   "codemirror_mode": {
    "name": "ipython",
    "version": 3
   },
   "file_extension": ".py",
   "mimetype": "text/x-python",
   "name": "python",
   "nbconvert_exporter": "python",
   "pygments_lexer": "ipython3",
   "version": "3.8.8"
  }
 },
 "nbformat": 4,
 "nbformat_minor": 2
}
